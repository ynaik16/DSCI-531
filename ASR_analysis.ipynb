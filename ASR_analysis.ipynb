{
  "cells": [
    {
      "cell_type": "code",
      "execution_count": null,
      "metadata": {
        "id": "FfSJN6jDKpmw"
      },
      "outputs": [],
      "source": [
        ""
      ]
    },
    {
      "cell_type": "markdown",
      "metadata": {
        "id": "KwDwlSJrFqsF"
      },
      "source": [
        "# Analysis of ASRs google, facebook, sphinx"
      ]
    },
    {
      "cell_type": "code",
      "execution_count": null,
      "metadata": {
        "colab": {
          "base_uri": "https://localhost:8080/",
          "height": 803
        },
        "id": "f3niYF2vMo36",
        "outputId": "5b25eae6-53f6-4b98-98bb-83e79d523a3e"
      },
      "outputs": [
        {
          "output_type": "stream",
          "name": "stdout",
          "text": [
            "Collecting transformers\n",
            "  Downloading transformers-4.18.0-py3-none-any.whl (4.0 MB)\n",
            "\u001b[K     |████████████████████████████████| 4.0 MB 8.9 MB/s \n",
            "\u001b[?25hCollecting pyyaml>=5.1\n",
            "  Downloading PyYAML-6.0-cp37-cp37m-manylinux_2_5_x86_64.manylinux1_x86_64.manylinux_2_12_x86_64.manylinux2010_x86_64.whl (596 kB)\n",
            "\u001b[K     |████████████████████████████████| 596 kB 41.3 MB/s \n",
            "\u001b[?25hRequirement already satisfied: filelock in /usr/local/lib/python3.7/dist-packages (from transformers) (3.6.0)\n",
            "Collecting tokenizers!=0.11.3,<0.13,>=0.11.1\n",
            "  Downloading tokenizers-0.12.1-cp37-cp37m-manylinux_2_12_x86_64.manylinux2010_x86_64.whl (6.6 MB)\n",
            "\u001b[K     |████████████████████████████████| 6.6 MB 38.5 MB/s \n",
            "\u001b[?25hRequirement already satisfied: importlib-metadata in /usr/local/lib/python3.7/dist-packages (from transformers) (4.11.3)\n",
            "Requirement already satisfied: regex!=2019.12.17 in /usr/local/lib/python3.7/dist-packages (from transformers) (2019.12.20)\n",
            "Requirement already satisfied: requests in /usr/local/lib/python3.7/dist-packages (from transformers) (2.23.0)\n",
            "Requirement already satisfied: numpy>=1.17 in /usr/local/lib/python3.7/dist-packages (from transformers) (1.21.6)\n",
            "Collecting sacremoses\n",
            "  Downloading sacremoses-0.0.49-py3-none-any.whl (895 kB)\n",
            "\u001b[K     |████████████████████████████████| 895 kB 41.3 MB/s \n",
            "\u001b[?25hCollecting huggingface-hub<1.0,>=0.1.0\n",
            "  Downloading huggingface_hub-0.5.1-py3-none-any.whl (77 kB)\n",
            "\u001b[K     |████████████████████████████████| 77 kB 7.2 MB/s \n",
            "\u001b[?25hRequirement already satisfied: tqdm>=4.27 in /usr/local/lib/python3.7/dist-packages (from transformers) (4.64.0)\n",
            "Requirement already satisfied: packaging>=20.0 in /usr/local/lib/python3.7/dist-packages (from transformers) (21.3)\n",
            "Requirement already satisfied: typing-extensions>=3.7.4.3 in /usr/local/lib/python3.7/dist-packages (from huggingface-hub<1.0,>=0.1.0->transformers) (4.1.1)\n",
            "Requirement already satisfied: pyparsing!=3.0.5,>=2.0.2 in /usr/local/lib/python3.7/dist-packages (from packaging>=20.0->transformers) (3.0.8)\n",
            "Requirement already satisfied: zipp>=0.5 in /usr/local/lib/python3.7/dist-packages (from importlib-metadata->transformers) (3.8.0)\n",
            "Requirement already satisfied: idna<3,>=2.5 in /usr/local/lib/python3.7/dist-packages (from requests->transformers) (2.10)\n",
            "Requirement already satisfied: certifi>=2017.4.17 in /usr/local/lib/python3.7/dist-packages (from requests->transformers) (2021.10.8)\n",
            "Requirement already satisfied: urllib3!=1.25.0,!=1.25.1,<1.26,>=1.21.1 in /usr/local/lib/python3.7/dist-packages (from requests->transformers) (1.24.3)\n",
            "Requirement already satisfied: chardet<4,>=3.0.2 in /usr/local/lib/python3.7/dist-packages (from requests->transformers) (3.0.4)\n",
            "Requirement already satisfied: joblib in /usr/local/lib/python3.7/dist-packages (from sacremoses->transformers) (1.1.0)\n",
            "Requirement already satisfied: click in /usr/local/lib/python3.7/dist-packages (from sacremoses->transformers) (7.1.2)\n",
            "Requirement already satisfied: six in /usr/local/lib/python3.7/dist-packages (from sacremoses->transformers) (1.15.0)\n",
            "Installing collected packages: pyyaml, tokenizers, sacremoses, huggingface-hub, transformers\n",
            "  Attempting uninstall: pyyaml\n",
            "    Found existing installation: PyYAML 3.13\n",
            "    Uninstalling PyYAML-3.13:\n",
            "      Successfully uninstalled PyYAML-3.13\n",
            "Successfully installed huggingface-hub-0.5.1 pyyaml-6.0 sacremoses-0.0.49 tokenizers-0.12.1 transformers-4.18.0\n"
          ]
        },
        {
          "output_type": "display_data",
          "data": {
            "application/vnd.colab-display-data+json": {
              "pip_warning": {
                "packages": [
                  "yaml"
                ]
              }
            }
          },
          "metadata": {}
        }
      ],
      "source": [
        "!pip3 install transformers"
      ]
    },
    {
      "cell_type": "code",
      "source": [
        "import os\n",
        "import librosa   #for audio processing\n",
        "import IPython.display as ipd\n",
        "import matplotlib.pyplot as plt\n",
        "import numpy as np\n",
        "from scipy.io import wavfile #for audio processing\n",
        "import warnings\n",
        "warnings.filterwarnings(\"ignore\")"
      ],
      "metadata": {
        "id": "z2x5E82HiRRY"
      },
      "execution_count": null,
      "outputs": []
    },
    {
      "cell_type": "code",
      "execution_count": null,
      "metadata": {
        "id": "87R_muk-QdfO"
      },
      "outputs": [],
      "source": [
        "import torch\n",
        "import librosa\n",
        "import numpy as np\n",
        "import soundfile as sf\n",
        "from scipy.io import wavfile\n",
        "from IPython.display import Audio\n",
        "from transformers import Wav2Vec2ForCTC, Wav2Vec2Tokenizer"
      ]
    },
    {
      "cell_type": "code",
      "execution_count": null,
      "metadata": {
        "id": "2I1nKsHPODoF"
      },
      "outputs": [],
      "source": [
        "import matplotlib.pyplot as plt\n",
        "import numpy as np\n",
        "import wave\n",
        "import sys"
      ]
    },
    {
      "cell_type": "markdown",
      "metadata": {
        "id": "kCaF_Jr1S_6d"
      },
      "source": [
        "# Facebook asr"
      ]
    },
    {
      "cell_type": "code",
      "execution_count": null,
      "metadata": {
        "colab": {
          "base_uri": "https://localhost:8080/",
          "height": 286,
          "referenced_widgets": [
            "184011e6113049e98696da8eee9fdd1e",
            "dfceebdf6ad44ce086ff2f1d7bd032a9",
            "fbe7da1d338b4cedbfd36adbfa39ebad",
            "64059c2197874a7898adde0e34deb90b",
            "d31c301e97de4a6b96ff3097d8f088bf",
            "4fd3971d159648a29cebed9dc4f6fa3d",
            "260ebf5e6c36419bab706a9d30651b56",
            "0b5235613f674e4fbeab8d85d6b6f8e8",
            "33af6ac991b0434f9324d16a635c1dc3",
            "d6cb9b47283e4390b182c8be1b8a0cef",
            "e36444239e8a4031a0f4621718886598",
            "28462566d12e46c082751c1c1cada028",
            "7ce92fc85c5a4af8b5a84134a00d2a59",
            "2cdbc0ea08f4493caed107a654789988",
            "4b1c7b5b38124fab8f48e325704bd308",
            "bb859ef2d02e423d99f4d6b27aa68527",
            "24fa65185f5b4b37abd34afda203ccb6",
            "24631c16cd5b4612843ccdff7e1c7343",
            "58894949ef5d45e39c4a6883c4ad1756",
            "d718f6617cd54171bf4feff1f2264887",
            "fcc5bc6327024ccea7136a0152b596b8",
            "ac8fdb41c14e4457a7099474a6f6ae36",
            "2430d9e35079455784420589abcc5b33",
            "832e42b241e1419bac29eb7203c56660",
            "a782449413f1496c9dd7e7868cf430c4",
            "3abb44d96c9c447481a29eba34d9cfd7",
            "c6f0e9dd3ea34d4e86670ed10735799d",
            "b7593ce1ddc5460f9e634ce0ad51dd66",
            "b8fabc01e5154bf3a01935fdb3b5741d",
            "7b3d92c1309a4cb2893deaf6162c2952",
            "84447a97f7284b68b9ac3b1108f5ad50",
            "6c9ee9de9fbd4223ad3314ed0ba87788",
            "a3e31e427e9646b9aeb3138c29b7490c",
            "e63bc239ad604a8e9176b3fb9d29c6c0",
            "b9454bbed8654ec39f097dc777ea6abc",
            "8cbb5ad8343c4e229d84078553699f37",
            "08f61cc30f00438b9d2e6c7781bc2e04",
            "3a6b7c38e7e54371afb5a5e6555234e3",
            "9f6e73f9b9214001be4379a13cf30a81",
            "231ecd0570bf441b9eb254c02523b2bc",
            "ba139f1ba8454dbbac0c7081beac82f5",
            "ca4f468c416148dea8c19c182251acbb",
            "fd677a2955b749ff8647d6143e3f99f0",
            "fbf19d2db0284a90aeba6ed93ca762a9",
            "fddeb37954e34eed97ed3bebf91ae623",
            "ce2d6a3c05d54ed99d5d2d61bec142fe",
            "cc8b06f16c88457ba710f3b34464e51b",
            "d16365c63a9f4479b5c7f629678eb654",
            "b959eba5be944956b36173740293aa0d",
            "f254e6118f8243f7bdc4723de1761569",
            "1d7944f738cc4713aa3d312ab36c6efb",
            "fb1a3cc555454ae4838cec700fd7d5fd",
            "c79a865108dc4ee28c8ab181051d09b5",
            "c338529ffe5f4fbdb624dac791e8e5d3",
            "c86e2ba367b34a87a5447113cf4af5cb"
          ]
        },
        "id": "upmkFfLtn7U6",
        "outputId": "c60fe52d-2d4b-446a-95cd-6cb237824906"
      },
      "outputs": [
        {
          "output_type": "display_data",
          "data": {
            "text/plain": [
              "Downloading:   0%|          | 0.00/291 [00:00<?, ?B/s]"
            ],
            "application/vnd.jupyter.widget-view+json": {
              "version_major": 2,
              "version_minor": 0,
              "model_id": "184011e6113049e98696da8eee9fdd1e"
            }
          },
          "metadata": {}
        },
        {
          "output_type": "display_data",
          "data": {
            "text/plain": [
              "Downloading:   0%|          | 0.00/163 [00:00<?, ?B/s]"
            ],
            "application/vnd.jupyter.widget-view+json": {
              "version_major": 2,
              "version_minor": 0,
              "model_id": "28462566d12e46c082751c1c1cada028"
            }
          },
          "metadata": {}
        },
        {
          "output_type": "display_data",
          "data": {
            "text/plain": [
              "Downloading:   0%|          | 0.00/85.0 [00:00<?, ?B/s]"
            ],
            "application/vnd.jupyter.widget-view+json": {
              "version_major": 2,
              "version_minor": 0,
              "model_id": "2430d9e35079455784420589abcc5b33"
            }
          },
          "metadata": {}
        },
        {
          "output_type": "display_data",
          "data": {
            "text/plain": [
              "Downloading:   0%|          | 0.00/1.56k [00:00<?, ?B/s]"
            ],
            "application/vnd.jupyter.widget-view+json": {
              "version_major": 2,
              "version_minor": 0,
              "model_id": "e63bc239ad604a8e9176b3fb9d29c6c0"
            }
          },
          "metadata": {}
        },
        {
          "output_type": "stream",
          "name": "stderr",
          "text": [
            "The tokenizer class you load from this checkpoint is not the same type as the class this function is called from. It may result in unexpected tokenization. \n",
            "The tokenizer class you load from this checkpoint is 'Wav2Vec2CTCTokenizer'. \n",
            "The class this function is called from is 'Wav2Vec2Tokenizer'.\n"
          ]
        },
        {
          "output_type": "display_data",
          "data": {
            "text/plain": [
              "Downloading:   0%|          | 0.00/360M [00:00<?, ?B/s]"
            ],
            "application/vnd.jupyter.widget-view+json": {
              "version_major": 2,
              "version_minor": 0,
              "model_id": "fddeb37954e34eed97ed3bebf91ae623"
            }
          },
          "metadata": {}
        },
        {
          "output_type": "stream",
          "name": "stderr",
          "text": [
            "Some weights of Wav2Vec2ForCTC were not initialized from the model checkpoint at facebook/wav2vec2-base-960h and are newly initialized: ['wav2vec2.masked_spec_embed']\n",
            "You should probably TRAIN this model on a down-stream task to be able to use it for predictions and inference.\n"
          ]
        }
      ],
      "source": [
        "tokenizer = Wav2Vec2Tokenizer.from_pretrained(\"facebook/wav2vec2-base-960h\")\n",
        "model = Wav2Vec2ForCTC.from_pretrained(\"facebook/wav2vec2-base-960h\")"
      ]
    },
    {
      "cell_type": "markdown",
      "metadata": {
        "id": "wvlzYxUJS3Ts"
      },
      "source": [
        "# python-Google ASR\n"
      ]
    },
    {
      "cell_type": "code",
      "execution_count": null,
      "metadata": {
        "colab": {
          "base_uri": "https://localhost:8080/"
        },
        "id": "iY8-dY_4pr3B",
        "outputId": "4c964bd8-4c69-4ce0-97a3-02f2279f3302"
      },
      "outputs": [
        {
          "output_type": "stream",
          "name": "stdout",
          "text": [
            "Collecting SpeechRecognition\n",
            "  Downloading SpeechRecognition-3.8.1-py2.py3-none-any.whl (32.8 MB)\n",
            "\u001b[K     |████████████████████████████████| 32.8 MB 62 kB/s \n",
            "\u001b[?25hInstalling collected packages: SpeechRecognition\n",
            "Successfully installed SpeechRecognition-3.8.1\n"
          ]
        }
      ],
      "source": [
        "!pip install SpeechRecognition"
      ]
    },
    {
      "cell_type": "code",
      "execution_count": null,
      "metadata": {
        "colab": {
          "base_uri": "https://localhost:8080/"
        },
        "id": "W8ztUdAg1BwC",
        "outputId": "e918a505-9f82-4c01-a781-262627b83007"
      },
      "outputs": [
        {
          "output_type": "stream",
          "name": "stdout",
          "text": [
            "Collecting pydub\n",
            "  Downloading pydub-0.25.1-py2.py3-none-any.whl (32 kB)\n",
            "Installing collected packages: pydub\n",
            "Successfully installed pydub-0.25.1\n"
          ]
        }
      ],
      "source": [
        "!pip install pydub"
      ]
    },
    {
      "cell_type": "code",
      "source": [
        "import speech_recognition as sr\n",
        "from os import path\n",
        "from pydub import AudioSegment\n"
      ],
      "metadata": {
        "id": "DOzJgJ0nhWOu"
      },
      "execution_count": null,
      "outputs": []
    },
    {
      "cell_type": "markdown",
      "source": [
        "3rd party library to calculate Word Error Rate using Lavenstein distance"
      ],
      "metadata": {
        "id": "A1OJLG-Oin_9"
      }
    },
    {
      "cell_type": "code",
      "execution_count": null,
      "metadata": {
        "colab": {
          "base_uri": "https://localhost:8080/"
        },
        "id": "Ey1yF_wH1bNi",
        "outputId": "39effe16-76f9-42ed-fa53-ddd0641c98f7"
      },
      "outputs": [
        {
          "output_type": "stream",
          "name": "stdout",
          "text": [
            "Collecting jiwer\n",
            "  Downloading jiwer-2.3.0-py3-none-any.whl (15 kB)\n",
            "Collecting python-Levenshtein==0.12.2\n",
            "  Downloading python-Levenshtein-0.12.2.tar.gz (50 kB)\n",
            "\u001b[K     |████████████████████████████████| 50 kB 2.8 MB/s \n",
            "\u001b[?25hRequirement already satisfied: setuptools in /usr/local/lib/python3.7/dist-packages (from python-Levenshtein==0.12.2->jiwer) (57.4.0)\n",
            "Building wheels for collected packages: python-Levenshtein\n",
            "  Building wheel for python-Levenshtein (setup.py) ... \u001b[?25l\u001b[?25hdone\n",
            "  Created wheel for python-Levenshtein: filename=python_Levenshtein-0.12.2-cp37-cp37m-linux_x86_64.whl size=149864 sha256=c2afcdee7bd09a6f049caed9fb570e36c90ea5a287e1a720e3cce9968c9d095c\n",
            "  Stored in directory: /root/.cache/pip/wheels/05/5f/ca/7c4367734892581bb5ff896f15027a932c551080b2abd3e00d\n",
            "Successfully built python-Levenshtein\n",
            "Installing collected packages: python-Levenshtein, jiwer\n",
            "Successfully installed jiwer-2.3.0 python-Levenshtein-0.12.2\n"
          ]
        }
      ],
      "source": [
        "!pip install jiwer"
      ]
    },
    {
      "cell_type": "markdown",
      "metadata": {
        "id": "03lC7aXu6L6D"
      },
      "source": [
        "Testing Facebook vs google WER on Scottish speech"
      ]
    },
    {
      "cell_type": "code",
      "execution_count": null,
      "metadata": {
        "id": "ly81OvTn2M9C"
      },
      "outputs": [],
      "source": [
        "import pandas as pd\n"
      ]
    },
    {
      "cell_type": "code",
      "execution_count": null,
      "metadata": {
        "id": "ALx_Rtg8L4yi"
      },
      "outputs": [],
      "source": [
        "import os"
      ]
    },
    {
      "cell_type": "code",
      "source": [
        "from jiwer import wer\n"
      ],
      "metadata": {
        "id": "aCuCJ1ZUrBFu"
      },
      "execution_count": null,
      "outputs": []
    },
    {
      "cell_type": "code",
      "source": [
        "import numpy as np\n"
      ],
      "metadata": {
        "id": "U81IHzefrsIB"
      },
      "execution_count": null,
      "outputs": []
    },
    {
      "cell_type": "markdown",
      "source": [
        "Function to convert audio file to predicted text output using Facebook's Wave2Vec ASR"
      ],
      "metadata": {
        "id": "fYoQ6BSWjeId"
      }
    },
    {
      "cell_type": "code",
      "execution_count": null,
      "metadata": {
        "id": "A7OFTFzOM6Li"
      },
      "outputs": [],
      "source": [
        "def facebook_asr(audio_path):\n",
        "    input_audio, _ = librosa.load(audio_path, sr=16000)\n",
        "    input_values = tokenizer(input_audio, return_tensors=\"pt\").input_values\n",
        "    logits = model(input_values).logits\n",
        "    predicted_ids = torch.argmax(logits, dim=-1)\n",
        "    transcription = tokenizer.batch_decode(predicted_ids)[0]\n",
        "\n",
        "    return transcription\n",
        "    #print(transcription)"
      ]
    },
    {
      "cell_type": "markdown",
      "source": [
        "User JIWER API to calculate WER between Ground truth text and Predicted text by ASR"
      ],
      "metadata": {
        "id": "csN-SVznj03p"
      }
    },
    {
      "cell_type": "code",
      "execution_count": null,
      "metadata": {
        "id": "Cl4G9D9cN3D3"
      },
      "outputs": [],
      "source": [
        "def word_error(hypothesis, ground_truth):\n",
        "    ground_truth = ground_truth\n",
        "    hypothesis = hypothesis\n",
        "\n",
        "    error = wer(ground_truth.lower(), hypothesis.lower())\n",
        "    print(error)\n",
        "    return error"
      ]
    },
    {
      "cell_type": "markdown",
      "source": [
        "Function to convert audio file to predicted text output using Google's Wep Speech ASR"
      ],
      "metadata": {
        "id": "SHRHIo1Wj-25"
      }
    },
    {
      "cell_type": "code",
      "source": [
        "def google_asr(audio_path):\n",
        "    r = sr.Recognizer()\n",
        "    with sr.AudioFile(audio_path) as source:\n",
        "            audio = r.record(source)  # read the entire audio file                  \n",
        "            output = r.recognize_google(audio)\n",
        "            #print(\"Transcription: \" + r.recognize_google(audio))\n",
        "    return output"
      ],
      "metadata": {
        "id": "-VdQ2NBBhbi1"
      },
      "execution_count": null,
      "outputs": []
    },
    {
      "cell_type": "code",
      "source": [
        "def google(path, dictionary, out = \"ScotchMalePredictedGoo.json\" ):\n",
        "    SM_file = os.listdir(path)\n",
        "\n",
        "    SM_predicted = dict()\n",
        "    i = 0\n",
        "    for file in SM_file:\n",
        "        if file.endswith('.wav'):\n",
        "            i+=1\n",
        "            SM_predicted[file[:-4]]= google_asr(path+'/'+file)\n",
        "            #print(i)\n",
        "\n",
        "    json2 = json.dumps(SM_predicted)\n",
        "\n",
        "    # open file for writing, \"w\" \n",
        "    f = open(out,\"w\")\n",
        "\n",
        "    # write json object to file\n",
        "    f.write(json2)\n",
        "\n",
        "    # close file\n",
        "    f.close()\n",
        "\n",
        "    SM_errors = []\n",
        "    for k1,v1 in SM_predicted.items():\n",
        "        for k2,v2 in dictionary.items():\n",
        "            #print(type(v1))\n",
        "            #print(type(v1))\n",
        "            #break\n",
        "            if ' '+k1 == k2:\n",
        "                #print(v1)\n",
        "                #print(v2)\n",
        "                #break\n",
        "                e = wer(v2.lower(), v1.lower())\n",
        "                SM_errors.append(e)\n",
        "\n",
        "    mean_WER_Scottish_males = np.mean(SM_errors)\n",
        "    return mean_WER_Scottish_males\n"
      ],
      "metadata": {
        "id": "gRE-Reg5pmDx"
      },
      "execution_count": null,
      "outputs": []
    },
    {
      "cell_type": "code",
      "source": [
        "import json"
      ],
      "metadata": {
        "id": "S2I-Yx4UATu7"
      },
      "execution_count": null,
      "outputs": []
    },
    {
      "cell_type": "markdown",
      "source": [
        "# Analysis"
      ],
      "metadata": {
        "id": "kesK3bF-McXc"
      }
    },
    {
      "cell_type": "code",
      "source": [
        "import zipfile"
      ],
      "metadata": {
        "id": "AzGQkMTbMeiH"
      },
      "execution_count": null,
      "outputs": []
    },
    {
      "cell_type": "markdown",
      "source": [
        "Update the location of predicted.zip file to extract the saved predicted output from ASR's above in the current directory"
      ],
      "metadata": {
        "id": "fApmLd8kkZZ-"
      }
    },
    {
      "cell_type": "code",
      "source": [
        "!unzip \"/content/drive/MyDrive/colab/DSCI 531/predicted.zip\" -d \"/content/\""
      ],
      "metadata": {
        "id": "a1i7dI4LMywk"
      },
      "execution_count": null,
      "outputs": []
    },
    {
      "cell_type": "markdown",
      "source": [
        "### Ground Truth Files"
      ],
      "metadata": {
        "id": "szV6fM9NXAOr"
      }
    },
    {
      "cell_type": "markdown",
      "source": [
        "Scotch Male"
      ],
      "metadata": {
        "id": "GT7AfteNXZc6"
      }
    },
    {
      "cell_type": "code",
      "source": [
        "scotch_male_path = \"/content/drive/MyDrive/colab/DSCI 531/scottish_english_male\"\n",
        "scottish_male_truth = pd.read_csv(scotch_male_path+'/line_index.csv', header= None)\n",
        "scottish_male_truth.head()\n",
        "\n",
        "SM_ground_truth_dict = dict(zip(scottish_male_truth[1],scottish_male_truth[2]))           # scottish male"
      ],
      "metadata": {
        "id": "pZCvx-ncW_8O"
      },
      "execution_count": null,
      "outputs": []
    },
    {
      "cell_type": "markdown",
      "source": [
        "Scotch Female"
      ],
      "metadata": {
        "id": "FuPGXSd1XbqJ"
      }
    },
    {
      "cell_type": "code",
      "source": [
        "scotch_path = \"/content/drive/MyDrive/colab/DSCI 531/scottish_english_female\"\n",
        "scottish_truth = pd.read_csv(scotch_path+'/line_index.csv', header= None)\n",
        "scottish_truth.head()\n",
        "SF_ground_truth_dict = dict(zip(scottish_truth[1],scottish_truth[2]))           # scottish female"
      ],
      "metadata": {
        "id": "YQ4vmrIiXKtO"
      },
      "execution_count": null,
      "outputs": []
    },
    {
      "cell_type": "markdown",
      "source": [
        "Welsh Male"
      ],
      "metadata": {
        "id": "yQqPNi4YXeOU"
      }
    },
    {
      "cell_type": "code",
      "source": [
        "welsh_male_path = \"/content/drive/MyDrive/colab/DSCI 531/welsh_english_male\"\n",
        "welsh_male_truth = pd.read_csv(welsh_male_path+'/line_index.csv', header= None)\n",
        "welsh_male_truth.head()\n",
        "\n",
        "WM_ground_truth_dict = dict(zip(welsh_male_truth[1],welsh_male_truth[2]))           # welsh male"
      ],
      "metadata": {
        "id": "Ao0cMjzEXKg-"
      },
      "execution_count": null,
      "outputs": []
    },
    {
      "cell_type": "markdown",
      "source": [
        "Welsh Female"
      ],
      "metadata": {
        "id": "-Q_U9bwvXggO"
      }
    },
    {
      "cell_type": "code",
      "source": [
        "welsh_female_path = \"/content/drive/MyDrive/colab/DSCI 531/welsh_english_female\"\n",
        "welsh_female_truth = pd.read_csv(welsh_female_path+'/line_index.csv', header= None)\n",
        "welsh_female_truth.head()\n",
        "\n",
        "WF_ground_truth_dict = dict(zip(welsh_female_truth[1],welsh_female_truth[2]))    # Welsh Female"
      ],
      "metadata": {
        "id": "oN2NpGEJW_uh"
      },
      "execution_count": null,
      "outputs": []
    },
    {
      "cell_type": "markdown",
      "source": [
        "Nigerian Male"
      ],
      "metadata": {
        "id": "dkv1Zu4LXiT4"
      }
    },
    {
      "cell_type": "code",
      "source": [
        "nigerian_male_path = \"/content/drive/MyDrive/colab/DSCI 531/nigerian_male\"\n",
        "nigerian_male_truth = pd.read_csv(nigerian_male_path+'/line_index.tsv', sep = '\\t', header= None)\n",
        "nigerian_male_truth.head()\n",
        "NM_ground_truth_dict = dict(zip(nigerian_male_truth[0],nigerian_male_truth[1])) "
      ],
      "metadata": {
        "id": "bG3_Bh7PW_og"
      },
      "execution_count": null,
      "outputs": []
    },
    {
      "cell_type": "markdown",
      "source": [
        "Nigerian Female"
      ],
      "metadata": {
        "id": "xITIEPQmXjmA"
      }
    },
    {
      "cell_type": "code",
      "source": [
        "nigerian_female_path = \"/content/drive/MyDrive/colab/DSCI 531/nigerian_female\"\n",
        "nigerian_female_truth = pd.read_csv(nigerian_female_path+'/line_index.tsv', sep = '\\t', header= None)\n",
        "nigerian_female_truth.head()\n",
        "NF_ground_truth_dict = dict(zip(nigerian_female_truth[0],nigerian_female_truth[1])) "
      ],
      "metadata": {
        "id": "MAd2xvimW_I8"
      },
      "execution_count": null,
      "outputs": []
    },
    {
      "cell_type": "code",
      "source": [
        ""
      ],
      "metadata": {
        "id": "MJLt1WIgW_D7"
      },
      "execution_count": null,
      "outputs": []
    },
    {
      "cell_type": "code",
      "source": [
        "!pip install jiwer\n",
        "from jiwer import wer"
      ],
      "metadata": {
        "colab": {
          "base_uri": "https://localhost:8080/"
        },
        "id": "gU_Hv1AbW-9m",
        "outputId": "a32cc8d2-de7d-446f-a46d-8bc884c32ade"
      },
      "execution_count": null,
      "outputs": [
        {
          "output_type": "stream",
          "name": "stdout",
          "text": [
            "Collecting jiwer\n",
            "  Downloading jiwer-2.3.0-py3-none-any.whl (15 kB)\n",
            "Collecting python-Levenshtein==0.12.2\n",
            "  Downloading python-Levenshtein-0.12.2.tar.gz (50 kB)\n",
            "\u001b[K     |████████████████████████████████| 50 kB 4.1 MB/s \n",
            "\u001b[?25hRequirement already satisfied: setuptools in /usr/local/lib/python3.7/dist-packages (from python-Levenshtein==0.12.2->jiwer) (57.4.0)\n",
            "Building wheels for collected packages: python-Levenshtein\n",
            "  Building wheel for python-Levenshtein (setup.py) ... \u001b[?25l\u001b[?25hdone\n",
            "  Created wheel for python-Levenshtein: filename=python_Levenshtein-0.12.2-cp37-cp37m-linux_x86_64.whl size=149866 sha256=8f24ff1c3799ff3a31bcd48b359d659234b32986abc84146f1a77c98dcf0a4f4\n",
            "  Stored in directory: /root/.cache/pip/wheels/05/5f/ca/7c4367734892581bb5ff896f15027a932c551080b2abd3e00d\n",
            "Successfully built python-Levenshtein\n",
            "Installing collected packages: python-Levenshtein, jiwer\n",
            "Successfully installed jiwer-2.3.0 python-Levenshtein-0.12.2\n"
          ]
        }
      ]
    },
    {
      "cell_type": "code",
      "source": [
        "def UK_calculate_error(predicted, actual):\n",
        "    error = []\n",
        "    for k1,v1 in predicted.items():\n",
        "        for k2,v2 in actual.items():\n",
        "            #print(type(v1))\n",
        "            #print(type(v1))\n",
        "            #break\n",
        "            if ' '+k1 == k2:\n",
        "                #print(v1)\n",
        "                #print(v2)\n",
        "                #break\n",
        "                e = wer(v2.lower(), v1.lower())\n",
        "                error.append(e)\n",
        "\n",
        "    mean = np.mean(error)\n",
        "    return mean"
      ],
      "metadata": {
        "id": "-dMJeOPDRLzR"
      },
      "execution_count": null,
      "outputs": []
    },
    {
      "cell_type": "code",
      "source": [
        "def Nigerian_calculate_error(predicted, actual):\n",
        "    error = []\n",
        "    for k1,v1 in predicted.items():\n",
        "        for k2,v2 in actual.items():\n",
        "            #print(type(v1))\n",
        "            #print(type(v1))\n",
        "            #break\n",
        "            if k1 == k2:\n",
        "                #print(v1)\n",
        "                #print(v2)\n",
        "                #break\n",
        "                e = wer(v2.lower(), v1.lower())\n",
        "                error.append(e)\n",
        "\n",
        "    mean = np.mean(error)\n",
        "    return mean"
      ],
      "metadata": {
        "id": "x4rc2laSYRvA"
      },
      "execution_count": null,
      "outputs": []
    },
    {
      "cell_type": "code",
      "source": [
        "def American_calculate_error(predicted, actual):\n",
        "    error = []\n",
        "    for k1,v1 in actual.items():\n",
        "        for k2,v2 in predicted.items():\n",
        "            #print(type(v1))\n",
        "            #print(type(v1))\n",
        "            #break\n",
        "            if k1 == k2+'.wav':\n",
        "                #print(v1)\n",
        "                #print(v2)\n",
        "                #break\n",
        "                if type(v2) == float or type(v1) == float:\n",
        "                    continue\n",
        "                e = wer(v2.lower(), v1.lower())\n",
        "                error.append(e)\n",
        "\n",
        "    mean = np.mean(error)\n",
        "    return mean"
      ],
      "metadata": {
        "id": "HHXsqYmZY4zh"
      },
      "execution_count": null,
      "outputs": []
    },
    {
      "cell_type": "code",
      "source": [
        "FBscottish_male_predicted = \"/content/predicted/ScotchMalePredictedFB.json\"\n",
        "FBscottish_female_predicted = \"/content/predicted/ScotchFemalePredictedFB.json\"\n",
        "FBwelsh_male_predicted =   \"/content/predicted/WelshMalePredictedFB.json\"\n",
        "FBwelsh_female_predicted = \"/content/predicted/WelshFeMalePredictedFB.json\"\n",
        "FBnigerian_male_predicted = \"/content/predicted/NigerianMalePredictedFB.json\"\n",
        "FBnigerian_female_predicted = \"/content/predicted/NigerianFeMalePredictedFB.json\"\n",
        "FBamerican_male_predicted = \"/content/predicted/AmericanMalePredictedFB.json\"\n",
        "FBamerican_female_predicted =\"/content/predicted/AmericanFemalePredictedFB.json\"\n"
      ],
      "metadata": {
        "id": "GymlB9AvSQ0g"
      },
      "execution_count": null,
      "outputs": []
    },
    {
      "cell_type": "code",
      "source": [
        "import json\n",
        "def create_dict(input_file):\n",
        "    with open(input_file) as json_file:\n",
        "        data = json.load(json_file)\n",
        "    \n",
        "    return data"
      ],
      "metadata": {
        "id": "dTVOodJlVOia"
      },
      "execution_count": null,
      "outputs": []
    },
    {
      "cell_type": "code",
      "source": [
        "FB_SM_predicted_dict = create_dict(FBscottish_male_predicted)\n",
        "FB_SF_predicted_dict = create_dict(FBscottish_female_predicted)\n",
        "FB_WM_predicted_dict = create_dict(FBwelsh_male_predicted)\n",
        "FB_WF_predicted_dict = create_dict(FBwelsh_female_predicted)\n",
        "FB_NM_predicted_dict = create_dict(FBnigerian_male_predicted)\n",
        "FB_NF_predicted_dict = create_dict(FBnigerian_female_predicted)\n",
        "FB_AM_predicted_dict = create_dict(FBamerican_male_predicted)\n",
        "FB_AMF_predicted_dict = create_dict(FBamerican_female_predicted)"
      ],
      "metadata": {
        "id": "HyosusLMVrNX"
      },
      "execution_count": null,
      "outputs": []
    },
    {
      "cell_type": "code",
      "source": [
        "GooGscottish_male_predicted = \"/content/predicted/ScotchMalePredictedGoo.json\"\n",
        "GooGscottish_female_predicted = \"/content/predicted/ScotchFemalePredictedGoo.json\"\n",
        "GooGwelsh_male_predicted = \"/content/predicted/WelshMalePredictedGoo.json\"\n",
        "GooGwelsh_female_predicted = \"/content/predicted/WelshFeMalePredictedGoo.json\" \n",
        "GooGnigerian_male_predicted = \"/content/predicted/NigerianMalePredictedGoo.json\"\n",
        "GooGnigerian_female_predicted = \"/content/predicted/NigerianFeMalePredictedGoo.json\"\n",
        "GooGamerican_male_predicted = \"/content/predicted/AmericanMalePredictedGoo.json\"\n",
        "GooGamerican_female_predicted =\"/content/predicted/AmericanFemalePredictedGoo.json\""
      ],
      "metadata": {
        "id": "fYVfNboETJHo"
      },
      "execution_count": null,
      "outputs": []
    },
    {
      "cell_type": "code",
      "source": [
        "G_SM_predicted_dict = create_dict(GooGscottish_male_predicted)\n",
        "G_SF_predicted_dict = create_dict(GooGscottish_female_predicted)\n",
        "G_WM_predicted_dict = create_dict(GooGwelsh_male_predicted)\n",
        "G_WF_predicted_dict = create_dict(GooGwelsh_female_predicted)\n",
        "G_NM_predicted_dict = create_dict(GooGnigerian_male_predicted)\n",
        "G_NF_predicted_dict = create_dict(GooGnigerian_female_predicted)\n",
        "G_AM_predicted_dict = create_dict(GooGamerican_male_predicted)\n",
        "G_AMF_predicted_dict = create_dict(GooGamerican_female_predicted)"
      ],
      "metadata": {
        "id": "X7rAhA8hWY0x"
      },
      "execution_count": null,
      "outputs": []
    },
    {
      "cell_type": "markdown",
      "source": [
        "Facebook results"
      ],
      "metadata": {
        "id": "_l_xdpZUcAMH"
      }
    },
    {
      "cell_type": "code",
      "source": [
        "result_dict_FB = {}\n",
        "\n",
        "result_dict_FB[\"Scottish_Male\"] = UK_calculate_error(FB_SM_predicted_dict, SM_ground_truth_dict)\n",
        "result_dict_FB[\"Scottish_Female\"] = UK_calculate_error(FB_SF_predicted_dict, SF_ground_truth_dict)\n",
        "result_dict_FB[\"Welsh_Male\"] = UK_calculate_error(FB_WM_predicted_dict, WM_ground_truth_dict)\n",
        "result_dict_FB[\"Welsh_Female\"] = UK_calculate_error(FB_WF_predicted_dict, WF_ground_truth_dict)\n",
        "result_dict_FB[\"Nigerian_Male\"] = Nigerian_calculate_error(FB_NM_predicted_dict, NM_ground_truth_dict)\n",
        "result_dict_FB[\"Nigerian_Female\"] = Nigerian_calculate_error(FB_NF_predicted_dict, NF_ground_truth_dict)\n",
        "result_dict_FB[\"American_Male\"] = American_calculate_error(FB_AM_predicted_dict, US_male_dict)\n",
        "result_dict_FB[\"American_Female\"] = American_calculate_error(FB_AMF_predicted_dict, US_female_dict)\n"
      ],
      "metadata": {
        "id": "X3Bqd_OARLpn"
      },
      "execution_count": null,
      "outputs": []
    },
    {
      "cell_type": "code",
      "source": [
        "result_dict_FB"
      ],
      "metadata": {
        "colab": {
          "base_uri": "https://localhost:8080/"
        },
        "id": "58kR5It0YzYa",
        "outputId": "1563e85a-1f4f-43ad-fc79-532c18890099"
      },
      "execution_count": null,
      "outputs": [
        {
          "output_type": "execute_result",
          "data": {
            "text/plain": [
              "{'American_Female': 0.1455424874099573,\n",
              " 'American_Male': 0.15462777979068928,\n",
              " 'Nigerian_Female': 0.4302409726351324,\n",
              " 'Nigerian_Male': 0.5083330848501688,\n",
              " 'Scottish_Female': 0.23023723943687105,\n",
              " 'Scottish_Male': 0.21782246623513546,\n",
              " 'Welsh_Female': 0.16998810130175182,\n",
              " 'Welsh_Male': 0.17836846233482326}"
            ]
          },
          "metadata": {},
          "execution_count": 88
        }
      ]
    },
    {
      "cell_type": "code",
      "source": [
        "Facebook_results_df = pd.DataFrame(result_dict_FB.items(), columns=['Ethnicity', 'Mean WER'])\n",
        "Facebook_results_df"
      ],
      "metadata": {
        "colab": {
          "base_uri": "https://localhost:8080/",
          "height": 300
        },
        "id": "zAhFOPRSM5Su",
        "outputId": "8f229465-cb34-4bef-9e30-17b7d03a807e"
      },
      "execution_count": null,
      "outputs": [
        {
          "output_type": "execute_result",
          "data": {
            "text/plain": [
              "         Ethnicity  Mean WER\n",
              "0    Scottish_Male  0.217822\n",
              "1  Scottish_Female  0.230237\n",
              "2       Welsh_Male  0.178368\n",
              "3     Welsh_Female  0.169988\n",
              "4    Nigerian_Male  0.508333\n",
              "5  Nigerian_Female  0.430241\n",
              "6    American_Male  0.154628\n",
              "7  American_Female  0.145542"
            ],
            "text/html": [
              "\n",
              "  <div id=\"df-c8f5b9d6-61bc-455f-93d0-295641546e75\">\n",
              "    <div class=\"colab-df-container\">\n",
              "      <div>\n",
              "<style scoped>\n",
              "    .dataframe tbody tr th:only-of-type {\n",
              "        vertical-align: middle;\n",
              "    }\n",
              "\n",
              "    .dataframe tbody tr th {\n",
              "        vertical-align: top;\n",
              "    }\n",
              "\n",
              "    .dataframe thead th {\n",
              "        text-align: right;\n",
              "    }\n",
              "</style>\n",
              "<table border=\"1\" class=\"dataframe\">\n",
              "  <thead>\n",
              "    <tr style=\"text-align: right;\">\n",
              "      <th></th>\n",
              "      <th>Ethnicity</th>\n",
              "      <th>Mean WER</th>\n",
              "    </tr>\n",
              "  </thead>\n",
              "  <tbody>\n",
              "    <tr>\n",
              "      <th>0</th>\n",
              "      <td>Scottish_Male</td>\n",
              "      <td>0.217822</td>\n",
              "    </tr>\n",
              "    <tr>\n",
              "      <th>1</th>\n",
              "      <td>Scottish_Female</td>\n",
              "      <td>0.230237</td>\n",
              "    </tr>\n",
              "    <tr>\n",
              "      <th>2</th>\n",
              "      <td>Welsh_Male</td>\n",
              "      <td>0.178368</td>\n",
              "    </tr>\n",
              "    <tr>\n",
              "      <th>3</th>\n",
              "      <td>Welsh_Female</td>\n",
              "      <td>0.169988</td>\n",
              "    </tr>\n",
              "    <tr>\n",
              "      <th>4</th>\n",
              "      <td>Nigerian_Male</td>\n",
              "      <td>0.508333</td>\n",
              "    </tr>\n",
              "    <tr>\n",
              "      <th>5</th>\n",
              "      <td>Nigerian_Female</td>\n",
              "      <td>0.430241</td>\n",
              "    </tr>\n",
              "    <tr>\n",
              "      <th>6</th>\n",
              "      <td>American_Male</td>\n",
              "      <td>0.154628</td>\n",
              "    </tr>\n",
              "    <tr>\n",
              "      <th>7</th>\n",
              "      <td>American_Female</td>\n",
              "      <td>0.145542</td>\n",
              "    </tr>\n",
              "  </tbody>\n",
              "</table>\n",
              "</div>\n",
              "      <button class=\"colab-df-convert\" onclick=\"convertToInteractive('df-c8f5b9d6-61bc-455f-93d0-295641546e75')\"\n",
              "              title=\"Convert this dataframe to an interactive table.\"\n",
              "              style=\"display:none;\">\n",
              "        \n",
              "  <svg xmlns=\"http://www.w3.org/2000/svg\" height=\"24px\"viewBox=\"0 0 24 24\"\n",
              "       width=\"24px\">\n",
              "    <path d=\"M0 0h24v24H0V0z\" fill=\"none\"/>\n",
              "    <path d=\"M18.56 5.44l.94 2.06.94-2.06 2.06-.94-2.06-.94-.94-2.06-.94 2.06-2.06.94zm-11 1L8.5 8.5l.94-2.06 2.06-.94-2.06-.94L8.5 2.5l-.94 2.06-2.06.94zm10 10l.94 2.06.94-2.06 2.06-.94-2.06-.94-.94-2.06-.94 2.06-2.06.94z\"/><path d=\"M17.41 7.96l-1.37-1.37c-.4-.4-.92-.59-1.43-.59-.52 0-1.04.2-1.43.59L10.3 9.45l-7.72 7.72c-.78.78-.78 2.05 0 2.83L4 21.41c.39.39.9.59 1.41.59.51 0 1.02-.2 1.41-.59l7.78-7.78 2.81-2.81c.8-.78.8-2.07 0-2.86zM5.41 20L4 18.59l7.72-7.72 1.47 1.35L5.41 20z\"/>\n",
              "  </svg>\n",
              "      </button>\n",
              "      \n",
              "  <style>\n",
              "    .colab-df-container {\n",
              "      display:flex;\n",
              "      flex-wrap:wrap;\n",
              "      gap: 12px;\n",
              "    }\n",
              "\n",
              "    .colab-df-convert {\n",
              "      background-color: #E8F0FE;\n",
              "      border: none;\n",
              "      border-radius: 50%;\n",
              "      cursor: pointer;\n",
              "      display: none;\n",
              "      fill: #1967D2;\n",
              "      height: 32px;\n",
              "      padding: 0 0 0 0;\n",
              "      width: 32px;\n",
              "    }\n",
              "\n",
              "    .colab-df-convert:hover {\n",
              "      background-color: #E2EBFA;\n",
              "      box-shadow: 0px 1px 2px rgba(60, 64, 67, 0.3), 0px 1px 3px 1px rgba(60, 64, 67, 0.15);\n",
              "      fill: #174EA6;\n",
              "    }\n",
              "\n",
              "    [theme=dark] .colab-df-convert {\n",
              "      background-color: #3B4455;\n",
              "      fill: #D2E3FC;\n",
              "    }\n",
              "\n",
              "    [theme=dark] .colab-df-convert:hover {\n",
              "      background-color: #434B5C;\n",
              "      box-shadow: 0px 1px 3px 1px rgba(0, 0, 0, 0.15);\n",
              "      filter: drop-shadow(0px 1px 2px rgba(0, 0, 0, 0.3));\n",
              "      fill: #FFFFFF;\n",
              "    }\n",
              "  </style>\n",
              "\n",
              "      <script>\n",
              "        const buttonEl =\n",
              "          document.querySelector('#df-c8f5b9d6-61bc-455f-93d0-295641546e75 button.colab-df-convert');\n",
              "        buttonEl.style.display =\n",
              "          google.colab.kernel.accessAllowed ? 'block' : 'none';\n",
              "\n",
              "        async function convertToInteractive(key) {\n",
              "          const element = document.querySelector('#df-c8f5b9d6-61bc-455f-93d0-295641546e75');\n",
              "          const dataTable =\n",
              "            await google.colab.kernel.invokeFunction('convertToInteractive',\n",
              "                                                     [key], {});\n",
              "          if (!dataTable) return;\n",
              "\n",
              "          const docLinkHtml = 'Like what you see? Visit the ' +\n",
              "            '<a target=\"_blank\" href=https://colab.research.google.com/notebooks/data_table.ipynb>data table notebook</a>'\n",
              "            + ' to learn more about interactive tables.';\n",
              "          element.innerHTML = '';\n",
              "          dataTable['output_type'] = 'display_data';\n",
              "          await google.colab.output.renderOutput(dataTable, element);\n",
              "          const docLink = document.createElement('div');\n",
              "          docLink.innerHTML = docLinkHtml;\n",
              "          element.appendChild(docLink);\n",
              "        }\n",
              "      </script>\n",
              "    </div>\n",
              "  </div>\n",
              "  "
            ]
          },
          "metadata": {},
          "execution_count": 89
        }
      ]
    },
    {
      "cell_type": "code",
      "source": [
        "import seaborn as sns\n",
        "import matplotlib.pyplot as plt\n",
        "%matplotlib inline"
      ],
      "metadata": {
        "id": "q5BbksqNdR-C"
      },
      "execution_count": null,
      "outputs": []
    },
    {
      "cell_type": "code",
      "source": [
        "#fig = plt.figure(figsize=(15,5))\n",
        "ax = sns.barplot(x=\"Ethnicity\", y=\"Mean WER\" ,data=Facebook_results_df)\n",
        "plt.xticks(rotation=45)\n",
        "plt.show()"
      ],
      "metadata": {
        "colab": {
          "base_uri": "https://localhost:8080/",
          "height": 340
        },
        "id": "SJR63bhzdR0Z",
        "outputId": "0e88ef27-a354-4c45-dce6-d105ea7d3895"
      },
      "execution_count": null,
      "outputs": [
        {
          "output_type": "display_data",
          "data": {
            "text/plain": [
              "<Figure size 432x288 with 1 Axes>"
            ],
            "image/png": "[encoded data removed]"
          },
          "metadata": {
            "needs_background": "light"
          }
        }
      ]
    },
    {
      "cell_type": "markdown",
      "source": [
        "Google resuts"
      ],
      "metadata": {
        "id": "FBEnbOURb9yk"
      }
    },
    {
      "cell_type": "code",
      "source": [
        "result_dict_Google = {}\n",
        "\n",
        "result_dict_Google[\"Scottish_Male\"] = UK_calculate_error(G_SM_predicted_dict, SM_ground_truth_dict)\n",
        "result_dict_Google[\"Scottish_Female\"] = UK_calculate_error(G_SF_predicted_dict, SF_ground_truth_dict)\n",
        "result_dict_Google[\"Welsh_Male\"] = UK_calculate_error(G_WM_predicted_dict, WM_ground_truth_dict)\n",
        "result_dict_Google[\"Welsh_Female\"] = UK_calculate_error(G_WF_predicted_dict, WF_ground_truth_dict)\n",
        "result_dict_Google[\"Nigerian_Male\"] = Nigerian_calculate_error(G_NM_predicted_dict, NM_ground_truth_dict)\n",
        "result_dict_Google[\"Nigerian_Female\"] = Nigerian_calculate_error(G_NF_predicted_dict, NF_ground_truth_dict)\n",
        "result_dict_Google[\"American_Male\"] = American_calculate_error(G_AM_predicted_dict, US_male_dict)\n",
        "result_dict_Google[\"American_Female\"] = American_calculate_error(G_AMF_predicted_dict, US_female_dict)"
      ],
      "metadata": {
        "id": "uyO-ryjrZi8D"
      },
      "execution_count": null,
      "outputs": []
    },
    {
      "cell_type": "code",
      "source": [
        "result_dict_Google"
      ],
      "metadata": {
        "colab": {
          "base_uri": "https://localhost:8080/"
        },
        "id": "npB3Mj2mZtFE",
        "outputId": "a56c3e30-f2a7-4daa-8815-3ed8cf895405"
      },
      "execution_count": null,
      "outputs": [
        {
          "output_type": "execute_result",
          "data": {
            "text/plain": [
              "{'American_Female': 0.14448085939049796,\n",
              " 'American_Male': 0.15462777979068928,\n",
              " 'Nigerian_Female': 0.3273862404969944,\n",
              " 'Nigerian_Male': 0.35273186754712127,\n",
              " 'Scottish_Female': 0.20853027132863503,\n",
              " 'Scottish_Male': 0.1947603115825,\n",
              " 'Welsh_Female': 0.20547036572222732,\n",
              " 'Welsh_Male': 0.20444244086432378}"
            ]
          },
          "metadata": {},
          "execution_count": 100
        }
      ]
    },
    {
      "cell_type": "code",
      "source": [
        "Google_results_df = pd.DataFrame(result_dict_Google.items(), columns=['Ethnicity', 'Mean WER'])\n",
        "Google_results_df"
      ],
      "metadata": {
        "colab": {
          "base_uri": "https://localhost:8080/",
          "height": 300
        },
        "id": "4YD-JldRcv-v",
        "outputId": "8bab60f2-f893-4318-973b-32f4d030e9e2"
      },
      "execution_count": null,
      "outputs": [
        {
          "output_type": "execute_result",
          "data": {
            "text/plain": [
              "         Ethnicity  Mean WER\n",
              "0    Scottish_Male  0.194760\n",
              "1  Scottish_Female  0.208530\n",
              "2       Welsh_Male  0.204442\n",
              "3     Welsh_Female  0.205470\n",
              "4    Nigerian_Male  0.352732\n",
              "5  Nigerian_Female  0.327386\n",
              "6    American_Male  0.154628\n",
              "7  American_Female  0.144481"
            ],
            "text/html": [
              "\n",
              "  <div id=\"df-e667cf05-f86e-4373-a999-84308b5626b8\">\n",
              "    <div class=\"colab-df-container\">\n",
              "      <div>\n",
              "<style scoped>\n",
              "    .dataframe tbody tr th:only-of-type {\n",
              "        vertical-align: middle;\n",
              "    }\n",
              "\n",
              "    .dataframe tbody tr th {\n",
              "        vertical-align: top;\n",
              "    }\n",
              "\n",
              "    .dataframe thead th {\n",
              "        text-align: right;\n",
              "    }\n",
              "</style>\n",
              "<table border=\"1\" class=\"dataframe\">\n",
              "  <thead>\n",
              "    <tr style=\"text-align: right;\">\n",
              "      <th></th>\n",
              "      <th>Ethnicity</th>\n",
              "      <th>Mean WER</th>\n",
              "    </tr>\n",
              "  </thead>\n",
              "  <tbody>\n",
              "    <tr>\n",
              "      <th>0</th>\n",
              "      <td>Scottish_Male</td>\n",
              "      <td>0.194760</td>\n",
              "    </tr>\n",
              "    <tr>\n",
              "      <th>1</th>\n",
              "      <td>Scottish_Female</td>\n",
              "      <td>0.208530</td>\n",
              "    </tr>\n",
              "    <tr>\n",
              "      <th>2</th>\n",
              "      <td>Welsh_Male</td>\n",
              "      <td>0.204442</td>\n",
              "    </tr>\n",
              "    <tr>\n",
              "      <th>3</th>\n",
              "      <td>Welsh_Female</td>\n",
              "      <td>0.205470</td>\n",
              "    </tr>\n",
              "    <tr>\n",
              "      <th>4</th>\n",
              "      <td>Nigerian_Male</td>\n",
              "      <td>0.352732</td>\n",
              "    </tr>\n",
              "    <tr>\n",
              "      <th>5</th>\n",
              "      <td>Nigerian_Female</td>\n",
              "      <td>0.327386</td>\n",
              "    </tr>\n",
              "    <tr>\n",
              "      <th>6</th>\n",
              "      <td>American_Male</td>\n",
              "      <td>0.154628</td>\n",
              "    </tr>\n",
              "    <tr>\n",
              "      <th>7</th>\n",
              "      <td>American_Female</td>\n",
              "      <td>0.144481</td>\n",
              "    </tr>\n",
              "  </tbody>\n",
              "</table>\n",
              "</div>\n",
              "      <button class=\"colab-df-convert\" onclick=\"convertToInteractive('df-e667cf05-f86e-4373-a999-84308b5626b8')\"\n",
              "              title=\"Convert this dataframe to an interactive table.\"\n",
              "              style=\"display:none;\">\n",
              "        \n",
              "  <svg xmlns=\"http://www.w3.org/2000/svg\" height=\"24px\"viewBox=\"0 0 24 24\"\n",
              "       width=\"24px\">\n",
              "    <path d=\"M0 0h24v24H0V0z\" fill=\"none\"/>\n",
              "    <path d=\"M18.56 5.44l.94 2.06.94-2.06 2.06-.94-2.06-.94-.94-2.06-.94 2.06-2.06.94zm-11 1L8.5 8.5l.94-2.06 2.06-.94-2.06-.94L8.5 2.5l-.94 2.06-2.06.94zm10 10l.94 2.06.94-2.06 2.06-.94-2.06-.94-.94-2.06-.94 2.06-2.06.94z\"/><path d=\"M17.41 7.96l-1.37-1.37c-.4-.4-.92-.59-1.43-.59-.52 0-1.04.2-1.43.59L10.3 9.45l-7.72 7.72c-.78.78-.78 2.05 0 2.83L4 21.41c.39.39.9.59 1.41.59.51 0 1.02-.2 1.41-.59l7.78-7.78 2.81-2.81c.8-.78.8-2.07 0-2.86zM5.41 20L4 18.59l7.72-7.72 1.47 1.35L5.41 20z\"/>\n",
              "  </svg>\n",
              "      </button>\n",
              "      \n",
              "  <style>\n",
              "    .colab-df-container {\n",
              "      display:flex;\n",
              "      flex-wrap:wrap;\n",
              "      gap: 12px;\n",
              "    }\n",
              "\n",
              "    .colab-df-convert {\n",
              "      background-color: #E8F0FE;\n",
              "      border: none;\n",
              "      border-radius: 50%;\n",
              "      cursor: pointer;\n",
              "      display: none;\n",
              "      fill: #1967D2;\n",
              "      height: 32px;\n",
              "      padding: 0 0 0 0;\n",
              "      width: 32px;\n",
              "    }\n",
              "\n",
              "    .colab-df-convert:hover {\n",
              "      background-color: #E2EBFA;\n",
              "      box-shadow: 0px 1px 2px rgba(60, 64, 67, 0.3), 0px 1px 3px 1px rgba(60, 64, 67, 0.15);\n",
              "      fill: #174EA6;\n",
              "    }\n",
              "\n",
              "    [theme=dark] .colab-df-convert {\n",
              "      background-color: #3B4455;\n",
              "      fill: #D2E3FC;\n",
              "    }\n",
              "\n",
              "    [theme=dark] .colab-df-convert:hover {\n",
              "      background-color: #434B5C;\n",
              "      box-shadow: 0px 1px 3px 1px rgba(0, 0, 0, 0.15);\n",
              "      filter: drop-shadow(0px 1px 2px rgba(0, 0, 0, 0.3));\n",
              "      fill: #FFFFFF;\n",
              "    }\n",
              "  </style>\n",
              "\n",
              "      <script>\n",
              "        const buttonEl =\n",
              "          document.querySelector('#df-e667cf05-f86e-4373-a999-84308b5626b8 button.colab-df-convert');\n",
              "        buttonEl.style.display =\n",
              "          google.colab.kernel.accessAllowed ? 'block' : 'none';\n",
              "\n",
              "        async function convertToInteractive(key) {\n",
              "          const element = document.querySelector('#df-e667cf05-f86e-4373-a999-84308b5626b8');\n",
              "          const dataTable =\n",
              "            await google.colab.kernel.invokeFunction('convertToInteractive',\n",
              "                                                     [key], {});\n",
              "          if (!dataTable) return;\n",
              "\n",
              "          const docLinkHtml = 'Like what you see? Visit the ' +\n",
              "            '<a target=\"_blank\" href=https://colab.research.google.com/notebooks/data_table.ipynb>data table notebook</a>'\n",
              "            + ' to learn more about interactive tables.';\n",
              "          element.innerHTML = '';\n",
              "          dataTable['output_type'] = 'display_data';\n",
              "          await google.colab.output.renderOutput(dataTable, element);\n",
              "          const docLink = document.createElement('div');\n",
              "          docLink.innerHTML = docLinkHtml;\n",
              "          element.appendChild(docLink);\n",
              "        }\n",
              "      </script>\n",
              "    </div>\n",
              "  </div>\n",
              "  "
            ]
          },
          "metadata": {},
          "execution_count": 101
        }
      ]
    },
    {
      "cell_type": "code",
      "source": [
        "ax = sns.barplot(x=\"Ethnicity\", y=\"Mean WER\" ,data=Google_results_df)\n",
        "plt.xticks(rotation=75)\n",
        "plt.show()"
      ],
      "metadata": {
        "colab": {
          "base_uri": "https://localhost:8080/",
          "height": 358
        },
        "id": "Bnhdk0YidQiF",
        "outputId": "739ead55-23b6-42b3-9d71-bae6146749fb"
      },
      "execution_count": null,
      "outputs": [
        {
          "output_type": "display_data",
          "data": {
            "text/plain": [
              "<Figure size 432x288 with 1 Axes>"
            ],
            "image/png": "[encoded data removed]"
          },
          "metadata": {
            "needs_background": "light"
          }
        }
      ]
    },
    {
      "cell_type": "code",
      "source": [
        ""
      ],
      "metadata": {
        "id": "9RdFyGzlecKq"
      },
      "execution_count": null,
      "outputs": []
    },
    {
      "cell_type": "markdown",
      "source": [
        "## Gender Bias"
      ],
      "metadata": {
        "id": "yfOx_MnzmS_G"
      }
    },
    {
      "cell_type": "markdown",
      "source": [
        "Facebook ASR "
      ],
      "metadata": {
        "id": "J73I0UlcmW_R"
      }
    },
    {
      "cell_type": "code",
      "source": [
        "fb_gender_df = Facebook_results_df.copy()\n",
        "\n"
      ],
      "metadata": {
        "id": "v9cndtX_mWbT"
      },
      "execution_count": null,
      "outputs": []
    },
    {
      "cell_type": "code",
      "source": [
        "fb_gender_df"
      ],
      "metadata": {
        "colab": {
          "base_uri": "https://localhost:8080/",
          "height": 300
        },
        "id": "cE2V9NX2nBb1",
        "outputId": "44925306-58ab-485e-fa48-f9db5db04836"
      },
      "execution_count": null,
      "outputs": [
        {
          "output_type": "execute_result",
          "data": {
            "text/plain": [
              "         Ethnicity  Mean WER\n",
              "0    Scottish_Male  0.217822\n",
              "1  Scottish_Female  0.230237\n",
              "2       Welsh_Male  0.178368\n",
              "3     Welsh_Female  0.169988\n",
              "4    Nigerian_Male  0.508333\n",
              "5  Nigerian_Female  0.430241\n",
              "6    American_Male  0.154628\n",
              "7  American_Female  0.145542"
            ],
            "text/html": [
              "\n",
              "  <div id=\"df-9a2d8fc3-d830-426e-bf15-c0420d5cdd43\">\n",
              "    <div class=\"colab-df-container\">\n",
              "      <div>\n",
              "<style scoped>\n",
              "    .dataframe tbody tr th:only-of-type {\n",
              "        vertical-align: middle;\n",
              "    }\n",
              "\n",
              "    .dataframe tbody tr th {\n",
              "        vertical-align: top;\n",
              "    }\n",
              "\n",
              "    .dataframe thead th {\n",
              "        text-align: right;\n",
              "    }\n",
              "</style>\n",
              "<table border=\"1\" class=\"dataframe\">\n",
              "  <thead>\n",
              "    <tr style=\"text-align: right;\">\n",
              "      <th></th>\n",
              "      <th>Ethnicity</th>\n",
              "      <th>Mean WER</th>\n",
              "    </tr>\n",
              "  </thead>\n",
              "  <tbody>\n",
              "    <tr>\n",
              "      <th>0</th>\n",
              "      <td>Scottish_Male</td>\n",
              "      <td>0.217822</td>\n",
              "    </tr>\n",
              "    <tr>\n",
              "      <th>1</th>\n",
              "      <td>Scottish_Female</td>\n",
              "      <td>0.230237</td>\n",
              "    </tr>\n",
              "    <tr>\n",
              "      <th>2</th>\n",
              "      <td>Welsh_Male</td>\n",
              "      <td>0.178368</td>\n",
              "    </tr>\n",
              "    <tr>\n",
              "      <th>3</th>\n",
              "      <td>Welsh_Female</td>\n",
              "      <td>0.169988</td>\n",
              "    </tr>\n",
              "    <tr>\n",
              "      <th>4</th>\n",
              "      <td>Nigerian_Male</td>\n",
              "      <td>0.508333</td>\n",
              "    </tr>\n",
              "    <tr>\n",
              "      <th>5</th>\n",
              "      <td>Nigerian_Female</td>\n",
              "      <td>0.430241</td>\n",
              "    </tr>\n",
              "    <tr>\n",
              "      <th>6</th>\n",
              "      <td>American_Male</td>\n",
              "      <td>0.154628</td>\n",
              "    </tr>\n",
              "    <tr>\n",
              "      <th>7</th>\n",
              "      <td>American_Female</td>\n",
              "      <td>0.145542</td>\n",
              "    </tr>\n",
              "  </tbody>\n",
              "</table>\n",
              "</div>\n",
              "      <button class=\"colab-df-convert\" onclick=\"convertToInteractive('df-9a2d8fc3-d830-426e-bf15-c0420d5cdd43')\"\n",
              "              title=\"Convert this dataframe to an interactive table.\"\n",
              "              style=\"display:none;\">\n",
              "        \n",
              "  <svg xmlns=\"http://www.w3.org/2000/svg\" height=\"24px\"viewBox=\"0 0 24 24\"\n",
              "       width=\"24px\">\n",
              "    <path d=\"M0 0h24v24H0V0z\" fill=\"none\"/>\n",
              "    <path d=\"M18.56 5.44l.94 2.06.94-2.06 2.06-.94-2.06-.94-.94-2.06-.94 2.06-2.06.94zm-11 1L8.5 8.5l.94-2.06 2.06-.94-2.06-.94L8.5 2.5l-.94 2.06-2.06.94zm10 10l.94 2.06.94-2.06 2.06-.94-2.06-.94-.94-2.06-.94 2.06-2.06.94z\"/><path d=\"M17.41 7.96l-1.37-1.37c-.4-.4-.92-.59-1.43-.59-.52 0-1.04.2-1.43.59L10.3 9.45l-7.72 7.72c-.78.78-.78 2.05 0 2.83L4 21.41c.39.39.9.59 1.41.59.51 0 1.02-.2 1.41-.59l7.78-7.78 2.81-2.81c.8-.78.8-2.07 0-2.86zM5.41 20L4 18.59l7.72-7.72 1.47 1.35L5.41 20z\"/>\n",
              "  </svg>\n",
              "      </button>\n",
              "      \n",
              "  <style>\n",
              "    .colab-df-container {\n",
              "      display:flex;\n",
              "      flex-wrap:wrap;\n",
              "      gap: 12px;\n",
              "    }\n",
              "\n",
              "    .colab-df-convert {\n",
              "      background-color: #E8F0FE;\n",
              "      border: none;\n",
              "      border-radius: 50%;\n",
              "      cursor: pointer;\n",
              "      display: none;\n",
              "      fill: #1967D2;\n",
              "      height: 32px;\n",
              "      padding: 0 0 0 0;\n",
              "      width: 32px;\n",
              "    }\n",
              "\n",
              "    .colab-df-convert:hover {\n",
              "      background-color: #E2EBFA;\n",
              "      box-shadow: 0px 1px 2px rgba(60, 64, 67, 0.3), 0px 1px 3px 1px rgba(60, 64, 67, 0.15);\n",
              "      fill: #174EA6;\n",
              "    }\n",
              "\n",
              "    [theme=dark] .colab-df-convert {\n",
              "      background-color: #3B4455;\n",
              "      fill: #D2E3FC;\n",
              "    }\n",
              "\n",
              "    [theme=dark] .colab-df-convert:hover {\n",
              "      background-color: #434B5C;\n",
              "      box-shadow: 0px 1px 3px 1px rgba(0, 0, 0, 0.15);\n",
              "      filter: drop-shadow(0px 1px 2px rgba(0, 0, 0, 0.3));\n",
              "      fill: #FFFFFF;\n",
              "    }\n",
              "  </style>\n",
              "\n",
              "      <script>\n",
              "        const buttonEl =\n",
              "          document.querySelector('#df-9a2d8fc3-d830-426e-bf15-c0420d5cdd43 button.colab-df-convert');\n",
              "        buttonEl.style.display =\n",
              "          google.colab.kernel.accessAllowed ? 'block' : 'none';\n",
              "\n",
              "        async function convertToInteractive(key) {\n",
              "          const element = document.querySelector('#df-9a2d8fc3-d830-426e-bf15-c0420d5cdd43');\n",
              "          const dataTable =\n",
              "            await google.colab.kernel.invokeFunction('convertToInteractive',\n",
              "                                                     [key], {});\n",
              "          if (!dataTable) return;\n",
              "\n",
              "          const docLinkHtml = 'Like what you see? Visit the ' +\n",
              "            '<a target=\"_blank\" href=https://colab.research.google.com/notebooks/data_table.ipynb>data table notebook</a>'\n",
              "            + ' to learn more about interactive tables.';\n",
              "          element.innerHTML = '';\n",
              "          dataTable['output_type'] = 'display_data';\n",
              "          await google.colab.output.renderOutput(dataTable, element);\n",
              "          const docLink = document.createElement('div');\n",
              "          docLink.innerHTML = docLinkHtml;\n",
              "          element.appendChild(docLink);\n",
              "        }\n",
              "      </script>\n",
              "    </div>\n",
              "  </div>\n",
              "  "
            ]
          },
          "metadata": {},
          "execution_count": 106
        }
      ]
    },
    {
      "cell_type": "code",
      "source": [
        "import re"
      ],
      "metadata": {
        "id": "UzBgU-genl7w"
      },
      "execution_count": null,
      "outputs": []
    },
    {
      "cell_type": "code",
      "source": [
        "Males = 0\n",
        "Females = 0\n",
        "for e,w in zip(fb_gender_df['Ethnicity'],fb_gender_df['Mean WER']):\n",
        "    if re.search(\"Male\",e):\n",
        "        Males+=w\n",
        "    else:\n",
        "        Females+=w\n"
      ],
      "metadata": {
        "id": "jY2s0-u-nCXT"
      },
      "execution_count": null,
      "outputs": []
    },
    {
      "cell_type": "code",
      "source": [
        "mean_male_WER = Males/3"
      ],
      "metadata": {
        "id": "Tfn1DuMZn3NG"
      },
      "execution_count": null,
      "outputs": []
    },
    {
      "cell_type": "code",
      "source": [
        "mean_female_WER = Females/3"
      ],
      "metadata": {
        "id": "0ZMXqVaNn4NF"
      },
      "execution_count": null,
      "outputs": []
    },
    {
      "cell_type": "code",
      "source": [
        "gender_google_dict = {\"Males\":mean_male_WER, \"Females\":mean_female_WER}"
      ],
      "metadata": {
        "id": "BytXP-cYpkaD"
      },
      "execution_count": null,
      "outputs": []
    },
    {
      "cell_type": "code",
      "source": [
        "names = list(gender_google_dict.keys())\n",
        "values = list(gender_google_dict.values())\n",
        "\n",
        "plt.bar(range(len(gender_google_dict)), values, tick_label=names, color=['red', 'green'])\n",
        "plt.show()"
      ],
      "metadata": {
        "colab": {
          "base_uri": "https://localhost:8080/",
          "height": 265
        },
        "id": "OZK2CbTPp_k3",
        "outputId": "2068b224-2eea-4a65-9c68-b76331398bc4"
      },
      "execution_count": null,
      "outputs": [
        {
          "output_type": "display_data",
          "data": {
            "text/plain": [
              "<Figure size 432x288 with 1 Axes>"
            ],
            "image/png": "[encoded data removed]"
          },
          "metadata": {
            "needs_background": "light"
          }
        }
      ]
    },
    {
      "cell_type": "markdown",
      "source": [
        "Google ASR Gender Bias"
      ],
      "metadata": {
        "id": "4bFXnrCMqY1B"
      }
    },
    {
      "cell_type": "code",
      "source": [
        "fb_gender_df = Google_results_df.copy()\n",
        "\n",
        "Males = 0\n",
        "Females = 0\n",
        "for e,w in zip(fb_gender_df['Ethnicity'],fb_gender_df['Mean WER']):\n",
        "    if re.search(\"Male\",e):\n",
        "        Males+=w\n",
        "    else:\n",
        "        Females+=w\n",
        "\n",
        "\n",
        "mean_male_WER = Males/3\n",
        "mean_female_WER = Females/3\n",
        "\n",
        "gender_fb_dict = {\"Males\":mean_male_WER, \"Females\":mean_female_WER}\n",
        "\n",
        "names = list(gender_fb_dict.keys())\n",
        "values = list(gender_fb_dict.values())\n",
        "\n",
        "plt.bar(range(len(gender_fb_dict)), values, tick_label=names, color=['red', 'green'])\n",
        "plt.show()"
      ],
      "metadata": {
        "colab": {
          "base_uri": "https://localhost:8080/",
          "height": 265
        },
        "id": "ZHVUA46lqahI",
        "outputId": "33db2b08-db80-4f20-9335-fd231352ac8b"
      },
      "execution_count": null,
      "outputs": [
        {
          "output_type": "display_data",
          "data": {
            "text/plain": [
              "<Figure size 432x288 with 1 Axes>"
            ],
            "image/png": "[encoded data removed]"
          },
          "metadata": {
            "needs_background": "light"
          }
        }
      ]
    },
    {
      "cell_type": "code",
      "source": [
        ""
      ],
      "metadata": {
        "id": "5zBOyE1-q1eQ"
      },
      "execution_count": null,
      "outputs": []
    },
    {
      "cell_type": "markdown",
      "source": [
        "Adding American speech dataset to the pool"
      ],
      "metadata": {
        "id": "3iQuqDr59ih3"
      }
    },
    {
      "cell_type": "code",
      "source": [
        "import zipfile"
      ],
      "metadata": {
        "id": "qoEVMX0u9j2w"
      },
      "execution_count": null,
      "outputs": []
    },
    {
      "cell_type": "code",
      "source": [
        "!tar -xvzf \"/content/drive/MyDrive/colab/DSCI 531/ST-AEDS-20180100_1-OS.tgz\" "
      ],
      "metadata": {
        "id": "zh2pCyqb9nO4"
      },
      "execution_count": null,
      "outputs": []
    },
    {
      "cell_type": "code",
      "source": [
        "location = \"/content/\""
      ],
      "metadata": {
        "id": "RMWC7JOT-F3h"
      },
      "execution_count": null,
      "outputs": []
    },
    {
      "cell_type": "code",
      "source": [
        "import os"
      ],
      "metadata": {
        "id": "QDXZHIxO_gv6"
      },
      "execution_count": null,
      "outputs": []
    },
    {
      "cell_type": "code",
      "source": [
        "american_females =[]\n",
        "american_males = []\n",
        "for f in os.listdir(location):\n",
        "    #print(f)\n",
        "    if f.endswith('.wav'):\n",
        "        if f.startswith('f'):\n",
        "            american_females.append(f)\n",
        "        elif f.startswith('m'):\n",
        "            american_males.append(f)"
      ],
      "metadata": {
        "id": "X3JHoDRN-uuJ"
      },
      "execution_count": null,
      "outputs": []
    },
    {
      "cell_type": "code",
      "source": [
        "len(american_females)"
      ],
      "metadata": {
        "colab": {
          "base_uri": "https://localhost:8080/"
        },
        "id": "ILSANAqP_WJY",
        "outputId": "edab8eee-c04c-41b5-9a4d-f3e46105cf76"
      },
      "execution_count": null,
      "outputs": [
        {
          "output_type": "execute_result",
          "data": {
            "text/plain": [
              "2186"
            ]
          },
          "metadata": {},
          "execution_count": 14
        }
      ]
    },
    {
      "cell_type": "code",
      "source": [
        "len(american_males)"
      ],
      "metadata": {
        "colab": {
          "base_uri": "https://localhost:8080/"
        },
        "id": "CKtAdPMM_XaV",
        "outputId": "7e24f7c7-6c7b-4087-dd74-1dd05c8f1aad"
      },
      "execution_count": null,
      "outputs": [
        {
          "output_type": "execute_result",
          "data": {
            "text/plain": [
              "1656"
            ]
          },
          "metadata": {},
          "execution_count": 16
        }
      ]
    },
    {
      "cell_type": "code",
      "source": [
        "import pandas as pd\n",
        "\n",
        "df = pd.read_csv(\"/content/text.txt\", sep='\\t', header = None)\n",
        "df.head"
      ],
      "metadata": {
        "id": "6FRJ_K8w_rcy"
      },
      "execution_count": null,
      "outputs": []
    },
    {
      "cell_type": "code",
      "source": [
        "US_male_dict = {}\n",
        "US_female_dict = {}\n",
        "\n",
        "for i in range(len(df[0])):\n",
        "    if df[0][i].startswith('f'):\n",
        "        US_female_dict[df[0][i]] = df[1][i]\n",
        "\n",
        "    elif df[0][i].startswith('m'):\n",
        "        US_male_dict[df[0][i]] = df[1][i]\n",
        "    #print(df[0][i])\n",
        "    #break "
      ],
      "metadata": {
        "id": "sElOOTarAGF3"
      },
      "execution_count": null,
      "outputs": []
    },
    {
      "cell_type": "code",
      "source": [
        "US_male_dict"
      ],
      "metadata": {
        "id": "nfdshYqdBGrh"
      },
      "execution_count": null,
      "outputs": []
    },
    {
      "cell_type": "markdown",
      "source": [
        "Facebook"
      ],
      "metadata": {
        "id": "XmwIpeRgDun7"
      }
    },
    {
      "cell_type": "code",
      "source": [
        "AMF_predicted = dict()\n",
        "i = 0\n",
        "for file in US_female_dict.keys():\n",
        "    i+=1\n",
        "    AMF_predicted[file[:-4]]= facebook_asr('/content/'+file)\n",
        "    print(i)\n",
        "    if i >500:\n",
        "        break"
      ],
      "metadata": {
        "id": "WkB2479RBe-1"
      },
      "execution_count": null,
      "outputs": []
    },
    {
      "cell_type": "code",
      "source": [
        "json12 = json.dumps(AMF_predicted)\n",
        "\n",
        "# open file for writing, \"w\" \n",
        "f = open(\"/content/predicted/AmericanFemalePredictedFB.json\",\"w\")\n",
        "\n",
        "# write json object to file\n",
        "f.write(json12)\n",
        "\n",
        "# close file\n",
        "f.close()"
      ],
      "metadata": {
        "id": "GFPL_hEbDO4-"
      },
      "execution_count": null,
      "outputs": []
    },
    {
      "cell_type": "code",
      "source": [
        "AM_predicted = dict()\n",
        "i = 0\n",
        "for file in US_male_dict.keys():\n",
        "    i+=1\n",
        "    AM_predicted[file[:-4]]= facebook_asr('/content/'+file)\n",
        "    #print(i)\n",
        "    if i >500:\n",
        "        break"
      ],
      "metadata": {
        "id": "DtVhaaXEPD9r"
      },
      "execution_count": null,
      "outputs": []
    },
    {
      "cell_type": "code",
      "source": [
        "json15 = json.dumps(AM_predicted)\n",
        "\n",
        "# open file for writing, \"w\" \n",
        "f = open(\"/content/predicted/AmericanMalePredictedFB.json\",\"w\")\n",
        "\n",
        "# write json object to file\n",
        "f.write(json15)\n",
        "\n",
        "# close file\n",
        "f.close()"
      ],
      "metadata": {
        "id": "N8E-X5o_PDyy"
      },
      "execution_count": null,
      "outputs": []
    },
    {
      "cell_type": "markdown",
      "source": [
        "Google"
      ],
      "metadata": {
        "id": "eXlV897mI_1B"
      }
    },
    {
      "cell_type": "code",
      "source": [
        "AM_predicted = dict()\n",
        "i = 0\n",
        "for file in US_male_dict.keys():\n",
        "    i+=1\n",
        "    AM_predicted[file[:-4]]= google_asr('/content/'+file)\n",
        "    print(i)\n",
        "    if i >500:\n",
        "        break"
      ],
      "metadata": {
        "id": "TUvKu4pIIsPy"
      },
      "execution_count": null,
      "outputs": []
    },
    {
      "cell_type": "code",
      "source": [
        ""
      ],
      "metadata": {
        "id": "3u2FxTknJIqV"
      },
      "execution_count": null,
      "outputs": []
    },
    {
      "cell_type": "code",
      "source": [
        "json13 = json.dumps(AM_predicted)\n",
        "\n",
        "# open file for writing, \"w\" \n",
        "f = open(\"/content/predicted/AmericanMalePredictedGoo.json\",\"w\")\n",
        "\n",
        "# write json object to file\n",
        "f.write(json13)\n",
        "\n",
        "# close file\n",
        "f.close()"
      ],
      "metadata": {
        "id": "zpPSeslJI-9s"
      },
      "execution_count": null,
      "outputs": []
    },
    {
      "cell_type": "code",
      "source": [
        "AMF_predicted_goo = dict()\n",
        "i = 0\n",
        "for file in US_female_dict.keys():\n",
        "    i+=1\n",
        "    AMF_predicted_goo[file[:-4]]= google_asr('/content/'+file)\n",
        "    print(i)\n",
        "    if i >500:\n",
        "        break"
      ],
      "metadata": {
        "id": "ZH2lUl0OJLlR"
      },
      "execution_count": null,
      "outputs": []
    },
    {
      "cell_type": "code",
      "source": [
        "json14 = json.dumps(AMF_predicted_goo)\n",
        "\n",
        "# open file for writing, \"w\" \n",
        "f = open(\"/content/predicted/AmericanFemalePredictedGoo.json\",\"w\")\n",
        "\n",
        "# write json object to file\n",
        "f.write(json14)\n",
        "\n",
        "# close file\n",
        "f.close()"
      ],
      "metadata": {
        "id": "aCUwMLa9PNwt"
      },
      "execution_count": null,
      "outputs": []
    },
    {
      "cell_type": "code",
      "source": [
        ""
      ],
      "metadata": {
        "id": "HaAM37uVQMue"
      },
      "execution_count": null,
      "outputs": []
    },
    {
      "cell_type": "code",
      "source": [
        ""
      ],
      "metadata": {
        "id": "XkX0ZtMkX_1X"
      },
      "execution_count": null,
      "outputs": []
    },
    {
      "cell_type": "code",
      "source": [
        ""
      ],
      "metadata": {
        "id": "MZECefWzX_xf"
      },
      "execution_count": null,
      "outputs": []
    },
    {
      "cell_type": "code",
      "source": [
        ""
      ],
      "metadata": {
        "id": "ZxPAhBVQX_t3"
      },
      "execution_count": null,
      "outputs": []
    },
    {
      "cell_type": "code",
      "source": [
        "error = []\n",
        "for k1,v1 in US_female_dict.items():\n",
        "    for k2,v2 in FB_AMF_predicted_dict.items():\n",
        "        #print(type(v1))\n",
        "        #print(type(v1))\n",
        "        #break\n",
        "        if k1 == k2+'.wav':\n",
        "            print(v1)\n",
        "            print(v2)\n",
        "            #break\n",
        "            if type(v2) == float or type(v1) == float:\n",
        "                continue\n",
        "            e = wer(v2.lower(), v1.lower())\n",
        "            error.append(e)\n",
        "\n",
        "mean = np.mean(error)\n",
        "mean"
      ],
      "metadata": {
        "id": "oi4HnSK_X_qP"
      },
      "execution_count": null,
      "outputs": []
    },
    {
      "cell_type": "code",
      "source": [
        "G_AM_predicted_dict"
      ],
      "metadata": {
        "id": "OvTwRJdYX_mL"
      },
      "execution_count": null,
      "outputs": []
    },
    {
      "cell_type": "code",
      "source": [
        "US_female_dict"
      ],
      "metadata": {
        "id": "6iCi_MGFYI7A"
      },
      "execution_count": null,
      "outputs": []
    },
    {
      "cell_type": "code",
      "source": [
        "m0001_us_m0001_00001"
      ],
      "metadata": {
        "id": "LOHhWZP3YL-k"
      },
      "execution_count": null,
      "outputs": []
    },
    {
      "cell_type": "code",
      "source": [
        ""
      ],
      "metadata": {
        "id": "pDXQzvzFYn-K"
      },
      "execution_count": null,
      "outputs": []
    }
  ],
  "metadata": {
    "colab": {
      "name": "ASR_analysis.ipynb",
      "provenance": [],
      "collapsed_sections": [
        "G___Df7Qwuyj",
        "YMJB76tBzYwn"
      ]
    },
    "kernelspec": {
      "display_name": "Python 3",
      "name": "python3"
    },
    "language_info": {
      "name": "python"
    },
    "widgets": {
      "application/vnd.jupyter.widget-state+json": {
        "184011e6113049e98696da8eee9fdd1e": {
          "model_module": "@jupyter-widgets/controls",
          "model_name": "HBoxModel",
          "model_module_version": "1.5.0",
          "state": {
            "_dom_classes": [],
            "_model_module": "@jupyter-widgets/controls",
            "_model_module_version": "1.5.0",
            "_model_name": "HBoxModel",
            "_view_count": null,
            "_view_module": "@jupyter-widgets/controls",
            "_view_module_version": "1.5.0",
            "_view_name": "HBoxView",
            "box_style": "",
            "children": [
              "IPY_MODEL_dfceebdf6ad44ce086ff2f1d7bd032a9",
              "IPY_MODEL_fbe7da1d338b4cedbfd36adbfa39ebad",
              "IPY_MODEL_64059c2197874a7898adde0e34deb90b"
            ],
            "layout": "IPY_MODEL_d31c301e97de4a6b96ff3097d8f088bf"
          }
        },
        "dfceebdf6ad44ce086ff2f1d7bd032a9": {
          "model_module": "@jupyter-widgets/controls",
          "model_name": "HTMLModel",
          "model_module_version": "1.5.0",
          "state": {
            "_dom_classes": [],
            "_model_module": "@jupyter-widgets/controls",
            "_model_module_version": "1.5.0",
            "_model_name": "HTMLModel",
            "_view_count": null,
            "_view_module": "@jupyter-widgets/controls",
            "_view_module_version": "1.5.0",
            "_view_name": "HTMLView",
            "description": "",
            "description_tooltip": null,
            "layout": "IPY_MODEL_4fd3971d159648a29cebed9dc4f6fa3d",
            "placeholder": "​",
            "style": "IPY_MODEL_260ebf5e6c36419bab706a9d30651b56",
            "value": "Downloading: 100%"
          }
        },
        "fbe7da1d338b4cedbfd36adbfa39ebad": {
          "model_module": "@jupyter-widgets/controls",
          "model_name": "FloatProgressModel",
          "model_module_version": "1.5.0",
          "state": {
            "_dom_classes": [],
            "_model_module": "@jupyter-widgets/controls",
            "_model_module_version": "1.5.0",
            "_model_name": "FloatProgressModel",
            "_view_count": null,
            "_view_module": "@jupyter-widgets/controls",
            "_view_module_version": "1.5.0",
            "_view_name": "ProgressView",
            "bar_style": "success",
            "description": "",
            "description_tooltip": null,
            "layout": "IPY_MODEL_0b5235613f674e4fbeab8d85d6b6f8e8",
            "max": 291,
            "min": 0,
            "orientation": "horizontal",
            "style": "IPY_MODEL_33af6ac991b0434f9324d16a635c1dc3",
            "value": 291
          }
        },
        "64059c2197874a7898adde0e34deb90b": {
          "model_module": "@jupyter-widgets/controls",
          "model_name": "HTMLModel",
          "model_module_version": "1.5.0",
          "state": {
            "_dom_classes": [],
            "_model_module": "@jupyter-widgets/controls",
            "_model_module_version": "1.5.0",
            "_model_name": "HTMLModel",
            "_view_count": null,
            "_view_module": "@jupyter-widgets/controls",
            "_view_module_version": "1.5.0",
            "_view_name": "HTMLView",
            "description": "",
            "description_tooltip": null,
            "layout": "IPY_MODEL_d6cb9b47283e4390b182c8be1b8a0cef",
            "placeholder": "​",
            "style": "IPY_MODEL_e36444239e8a4031a0f4621718886598",
            "value": " 291/291 [00:00&lt;00:00, 6.92kB/s]"
          }
        },
        "d31c301e97de4a6b96ff3097d8f088bf": {
          "model_module": "@jupyter-widgets/base",
          "model_name": "LayoutModel",
          "model_module_version": "1.2.0",
          "state": {
            "_model_module": "@jupyter-widgets/base",
            "_model_module_version": "1.2.0",
            "_model_name": "LayoutModel",
            "_view_count": null,
            "_view_module": "@jupyter-widgets/base",
            "_view_module_version": "1.2.0",
            "_view_name": "LayoutView",
            "align_content": null,
            "align_items": null,
            "align_self": null,
            "border": null,
            "bottom": null,
            "display": null,
            "flex": null,
            "flex_flow": null,
            "grid_area": null,
            "grid_auto_columns": null,
            "grid_auto_flow": null,
            "grid_auto_rows": null,
            "grid_column": null,
            "grid_gap": null,
            "grid_row": null,
            "grid_template_areas": null,
            "grid_template_columns": null,
            "grid_template_rows": null,
            "height": null,
            "justify_content": null,
            "justify_items": null,
            "left": null,
            "margin": null,
            "max_height": null,
            "max_width": null,
            "min_height": null,
            "min_width": null,
            "object_fit": null,
            "object_position": null,
            "order": null,
            "overflow": null,
            "overflow_x": null,
            "overflow_y": null,
            "padding": null,
            "right": null,
            "top": null,
            "visibility": null,
            "width": null
          }
        },
        "4fd3971d159648a29cebed9dc4f6fa3d": {
          "model_module": "@jupyter-widgets/base",
          "model_name": "LayoutModel",
          "model_module_version": "1.2.0",
          "state": {
            "_model_module": "@jupyter-widgets/base",
            "_model_module_version": "1.2.0",
            "_model_name": "LayoutModel",
            "_view_count": null,
            "_view_module": "@jupyter-widgets/base",
            "_view_module_version": "1.2.0",
            "_view_name": "LayoutView",
            "align_content": null,
            "align_items": null,
            "align_self": null,
            "border": null,
            "bottom": null,
            "display": null,
            "flex": null,
            "flex_flow": null,
            "grid_area": null,
            "grid_auto_columns": null,
            "grid_auto_flow": null,
            "grid_auto_rows": null,
            "grid_column": null,
            "grid_gap": null,
            "grid_row": null,
            "grid_template_areas": null,
            "grid_template_columns": null,
            "grid_template_rows": null,
            "height": null,
            "justify_content": null,
            "justify_items": null,
            "left": null,
            "margin": null,
            "max_height": null,
            "max_width": null,
            "min_height": null,
            "min_width": null,
            "object_fit": null,
            "object_position": null,
            "order": null,
            "overflow": null,
            "overflow_x": null,
            "overflow_y": null,
            "padding": null,
            "right": null,
            "top": null,
            "visibility": null,
            "width": null
          }
        },
        "260ebf5e6c36419bab706a9d30651b56": {
          "model_module": "@jupyter-widgets/controls",
          "model_name": "DescriptionStyleModel",
          "model_module_version": "1.5.0",
          "state": {
            "_model_module": "@jupyter-widgets/controls",
            "_model_module_version": "1.5.0",
            "_model_name": "DescriptionStyleModel",
            "_view_count": null,
            "_view_module": "@jupyter-widgets/base",
            "_view_module_version": "1.2.0",
            "_view_name": "StyleView",
            "description_width": ""
          }
        },
        "0b5235613f674e4fbeab8d85d6b6f8e8": {
          "model_module": "@jupyter-widgets/base",
          "model_name": "LayoutModel",
          "model_module_version": "1.2.0",
          "state": {
            "_model_module": "@jupyter-widgets/base",
            "_model_module_version": "1.2.0",
            "_model_name": "LayoutModel",
            "_view_count": null,
            "_view_module": "@jupyter-widgets/base",
            "_view_module_version": "1.2.0",
            "_view_name": "LayoutView",
            "align_content": null,
            "align_items": null,
            "align_self": null,
            "border": null,
            "bottom": null,
            "display": null,
            "flex": null,
            "flex_flow": null,
            "grid_area": null,
            "grid_auto_columns": null,
            "grid_auto_flow": null,
            "grid_auto_rows": null,
            "grid_column": null,
            "grid_gap": null,
            "grid_row": null,
            "grid_template_areas": null,
            "grid_template_columns": null,
            "grid_template_rows": null,
            "height": null,
            "justify_content": null,
            "justify_items": null,
            "left": null,
            "margin": null,
            "max_height": null,
            "max_width": null,
            "min_height": null,
            "min_width": null,
            "object_fit": null,
            "object_position": null,
            "order": null,
            "overflow": null,
            "overflow_x": null,
            "overflow_y": null,
            "padding": null,
            "right": null,
            "top": null,
            "visibility": null,
            "width": null
          }
        },
        "33af6ac991b0434f9324d16a635c1dc3": {
          "model_module": "@jupyter-widgets/controls",
          "model_name": "ProgressStyleModel",
          "model_module_version": "1.5.0",
          "state": {
            "_model_module": "@jupyter-widgets/controls",
            "_model_module_version": "1.5.0",
            "_model_name": "ProgressStyleModel",
            "_view_count": null,
            "_view_module": "@jupyter-widgets/base",
            "_view_module_version": "1.2.0",
            "_view_name": "StyleView",
            "bar_color": null,
            "description_width": ""
          }
        },
        "d6cb9b47283e4390b182c8be1b8a0cef": {
          "model_module": "@jupyter-widgets/base",
          "model_name": "LayoutModel",
          "model_module_version": "1.2.0",
          "state": {
            "_model_module": "@jupyter-widgets/base",
            "_model_module_version": "1.2.0",
            "_model_name": "LayoutModel",
            "_view_count": null,
            "_view_module": "@jupyter-widgets/base",
            "_view_module_version": "1.2.0",
            "_view_name": "LayoutView",
            "align_content": null,
            "align_items": null,
            "align_self": null,
            "border": null,
            "bottom": null,
            "display": null,
            "flex": null,
            "flex_flow": null,
            "grid_area": null,
            "grid_auto_columns": null,
            "grid_auto_flow": null,
            "grid_auto_rows": null,
            "grid_column": null,
            "grid_gap": null,
            "grid_row": null,
            "grid_template_areas": null,
            "grid_template_columns": null,
            "grid_template_rows": null,
            "height": null,
            "justify_content": null,
            "justify_items": null,
            "left": null,
            "margin": null,
            "max_height": null,
            "max_width": null,
            "min_height": null,
            "min_width": null,
            "object_fit": null,
            "object_position": null,
            "order": null,
            "overflow": null,
            "overflow_x": null,
            "overflow_y": null,
            "padding": null,
            "right": null,
            "top": null,
            "visibility": null,
            "width": null
          }
        },
        "e36444239e8a4031a0f4621718886598": {
          "model_module": "@jupyter-widgets/controls",
          "model_name": "DescriptionStyleModel",
          "model_module_version": "1.5.0",
          "state": {
            "_model_module": "@jupyter-widgets/controls",
            "_model_module_version": "1.5.0",
            "_model_name": "DescriptionStyleModel",
            "_view_count": null,
            "_view_module": "@jupyter-widgets/base",
            "_view_module_version": "1.2.0",
            "_view_name": "StyleView",
            "description_width": ""
          }
        },
        "28462566d12e46c082751c1c1cada028": {
          "model_module": "@jupyter-widgets/controls",
          "model_name": "HBoxModel",
          "model_module_version": "1.5.0",
          "state": {
            "_dom_classes": [],
            "_model_module": "@jupyter-widgets/controls",
            "_model_module_version": "1.5.0",
            "_model_name": "HBoxModel",
            "_view_count": null,
            "_view_module": "@jupyter-widgets/controls",
            "_view_module_version": "1.5.0",
            "_view_name": "HBoxView",
            "box_style": "",
            "children": [
              "IPY_MODEL_7ce92fc85c5a4af8b5a84134a00d2a59",
              "IPY_MODEL_2cdbc0ea08f4493caed107a654789988",
              "IPY_MODEL_4b1c7b5b38124fab8f48e325704bd308"
            ],
            "layout": "IPY_MODEL_bb859ef2d02e423d99f4d6b27aa68527"
          }
        },
        "7ce92fc85c5a4af8b5a84134a00d2a59": {
          "model_module": "@jupyter-widgets/controls",
          "model_name": "HTMLModel",
          "model_module_version": "1.5.0",
          "state": {
            "_dom_classes": [],
            "_model_module": "@jupyter-widgets/controls",
            "_model_module_version": "1.5.0",
            "_model_name": "HTMLModel",
            "_view_count": null,
            "_view_module": "@jupyter-widgets/controls",
            "_view_module_version": "1.5.0",
            "_view_name": "HTMLView",
            "description": "",
            "description_tooltip": null,
            "layout": "IPY_MODEL_24fa65185f5b4b37abd34afda203ccb6",
            "placeholder": "​",
            "style": "IPY_MODEL_24631c16cd5b4612843ccdff7e1c7343",
            "value": "Downloading: 100%"
          }
        },
        "2cdbc0ea08f4493caed107a654789988": {
          "model_module": "@jupyter-widgets/controls",
          "model_name": "FloatProgressModel",
          "model_module_version": "1.5.0",
          "state": {
            "_dom_classes": [],
            "_model_module": "@jupyter-widgets/controls",
            "_model_module_version": "1.5.0",
            "_model_name": "FloatProgressModel",
            "_view_count": null,
            "_view_module": "@jupyter-widgets/controls",
            "_view_module_version": "1.5.0",
            "_view_name": "ProgressView",
            "bar_style": "success",
            "description": "",
            "description_tooltip": null,
            "layout": "IPY_MODEL_58894949ef5d45e39c4a6883c4ad1756",
            "max": 163,
            "min": 0,
            "orientation": "horizontal",
            "style": "IPY_MODEL_d718f6617cd54171bf4feff1f2264887",
            "value": 163
          }
        },
        "4b1c7b5b38124fab8f48e325704bd308": {
          "model_module": "@jupyter-widgets/controls",
          "model_name": "HTMLModel",
          "model_module_version": "1.5.0",
          "state": {
            "_dom_classes": [],
            "_model_module": "@jupyter-widgets/controls",
            "_model_module_version": "1.5.0",
            "_model_name": "HTMLModel",
            "_view_count": null,
            "_view_module": "@jupyter-widgets/controls",
            "_view_module_version": "1.5.0",
            "_view_name": "HTMLView",
            "description": "",
            "description_tooltip": null,
            "layout": "IPY_MODEL_fcc5bc6327024ccea7136a0152b596b8",
            "placeholder": "​",
            "style": "IPY_MODEL_ac8fdb41c14e4457a7099474a6f6ae36",
            "value": " 163/163 [00:00&lt;00:00, 4.20kB/s]"
          }
        },
        "bb859ef2d02e423d99f4d6b27aa68527": {
          "model_module": "@jupyter-widgets/base",
          "model_name": "LayoutModel",
          "model_module_version": "1.2.0",
          "state": {
            "_model_module": "@jupyter-widgets/base",
            "_model_module_version": "1.2.0",
            "_model_name": "LayoutModel",
            "_view_count": null,
            "_view_module": "@jupyter-widgets/base",
            "_view_module_version": "1.2.0",
            "_view_name": "LayoutView",
            "align_content": null,
            "align_items": null,
            "align_self": null,
            "border": null,
            "bottom": null,
            "display": null,
            "flex": null,
            "flex_flow": null,
            "grid_area": null,
            "grid_auto_columns": null,
            "grid_auto_flow": null,
            "grid_auto_rows": null,
            "grid_column": null,
            "grid_gap": null,
            "grid_row": null,
            "grid_template_areas": null,
            "grid_template_columns": null,
            "grid_template_rows": null,
            "height": null,
            "justify_content": null,
            "justify_items": null,
            "left": null,
            "margin": null,
            "max_height": null,
            "max_width": null,
            "min_height": null,
            "min_width": null,
            "object_fit": null,
            "object_position": null,
            "order": null,
            "overflow": null,
            "overflow_x": null,
            "overflow_y": null,
            "padding": null,
            "right": null,
            "top": null,
            "visibility": null,
            "width": null
          }
        },
        "24fa65185f5b4b37abd34afda203ccb6": {
          "model_module": "@jupyter-widgets/base",
          "model_name": "LayoutModel",
          "model_module_version": "1.2.0",
          "state": {
            "_model_module": "@jupyter-widgets/base",
            "_model_module_version": "1.2.0",
            "_model_name": "LayoutModel",
            "_view_count": null,
            "_view_module": "@jupyter-widgets/base",
            "_view_module_version": "1.2.0",
            "_view_name": "LayoutView",
            "align_content": null,
            "align_items": null,
            "align_self": null,
            "border": null,
            "bottom": null,
            "display": null,
            "flex": null,
            "flex_flow": null,
            "grid_area": null,
            "grid_auto_columns": null,
            "grid_auto_flow": null,
            "grid_auto_rows": null,
            "grid_column": null,
            "grid_gap": null,
            "grid_row": null,
            "grid_template_areas": null,
            "grid_template_columns": null,
            "grid_template_rows": null,
            "height": null,
            "justify_content": null,
            "justify_items": null,
            "left": null,
            "margin": null,
            "max_height": null,
            "max_width": null,
            "min_height": null,
            "min_width": null,
            "object_fit": null,
            "object_position": null,
            "order": null,
            "overflow": null,
            "overflow_x": null,
            "overflow_y": null,
            "padding": null,
            "right": null,
            "top": null,
            "visibility": null,
            "width": null
          }
        },
        "24631c16cd5b4612843ccdff7e1c7343": {
          "model_module": "@jupyter-widgets/controls",
          "model_name": "DescriptionStyleModel",
          "model_module_version": "1.5.0",
          "state": {
            "_model_module": "@jupyter-widgets/controls",
            "_model_module_version": "1.5.0",
            "_model_name": "DescriptionStyleModel",
            "_view_count": null,
            "_view_module": "@jupyter-widgets/base",
            "_view_module_version": "1.2.0",
            "_view_name": "StyleView",
            "description_width": ""
          }
        },
        "58894949ef5d45e39c4a6883c4ad1756": {
          "model_module": "@jupyter-widgets/base",
          "model_name": "LayoutModel",
          "model_module_version": "1.2.0",
          "state": {
            "_model_module": "@jupyter-widgets/base",
            "_model_module_version": "1.2.0",
            "_model_name": "LayoutModel",
            "_view_count": null,
            "_view_module": "@jupyter-widgets/base",
            "_view_module_version": "1.2.0",
            "_view_name": "LayoutView",
            "align_content": null,
            "align_items": null,
            "align_self": null,
            "border": null,
            "bottom": null,
            "display": null,
            "flex": null,
            "flex_flow": null,
            "grid_area": null,
            "grid_auto_columns": null,
            "grid_auto_flow": null,
            "grid_auto_rows": null,
            "grid_column": null,
            "grid_gap": null,
            "grid_row": null,
            "grid_template_areas": null,
            "grid_template_columns": null,
            "grid_template_rows": null,
            "height": null,
            "justify_content": null,
            "justify_items": null,
            "left": null,
            "margin": null,
            "max_height": null,
            "max_width": null,
            "min_height": null,
            "min_width": null,
            "object_fit": null,
            "object_position": null,
            "order": null,
            "overflow": null,
            "overflow_x": null,
            "overflow_y": null,
            "padding": null,
            "right": null,
            "top": null,
            "visibility": null,
            "width": null
          }
        },
        "d718f6617cd54171bf4feff1f2264887": {
          "model_module": "@jupyter-widgets/controls",
          "model_name": "ProgressStyleModel",
          "model_module_version": "1.5.0",
          "state": {
            "_model_module": "@jupyter-widgets/controls",
            "_model_module_version": "1.5.0",
            "_model_name": "ProgressStyleModel",
            "_view_count": null,
            "_view_module": "@jupyter-widgets/base",
            "_view_module_version": "1.2.0",
            "_view_name": "StyleView",
            "bar_color": null,
            "description_width": ""
          }
        },
        "fcc5bc6327024ccea7136a0152b596b8": {
          "model_module": "@jupyter-widgets/base",
          "model_name": "LayoutModel",
          "model_module_version": "1.2.0",
          "state": {
            "_model_module": "@jupyter-widgets/base",
            "_model_module_version": "1.2.0",
            "_model_name": "LayoutModel",
            "_view_count": null,
            "_view_module": "@jupyter-widgets/base",
            "_view_module_version": "1.2.0",
            "_view_name": "LayoutView",
            "align_content": null,
            "align_items": null,
            "align_self": null,
            "border": null,
            "bottom": null,
            "display": null,
            "flex": null,
            "flex_flow": null,
            "grid_area": null,
            "grid_auto_columns": null,
            "grid_auto_flow": null,
            "grid_auto_rows": null,
            "grid_column": null,
            "grid_gap": null,
            "grid_row": null,
            "grid_template_areas": null,
            "grid_template_columns": null,
            "grid_template_rows": null,
            "height": null,
            "justify_content": null,
            "justify_items": null,
            "left": null,
            "margin": null,
            "max_height": null,
            "max_width": null,
            "min_height": null,
            "min_width": null,
            "object_fit": null,
            "object_position": null,
            "order": null,
            "overflow": null,
            "overflow_x": null,
            "overflow_y": null,
            "padding": null,
            "right": null,
            "top": null,
            "visibility": null,
            "width": null
          }
        },
        "ac8fdb41c14e4457a7099474a6f6ae36": {
          "model_module": "@jupyter-widgets/controls",
          "model_name": "DescriptionStyleModel",
          "model_module_version": "1.5.0",
          "state": {
            "_model_module": "@jupyter-widgets/controls",
            "_model_module_version": "1.5.0",
            "_model_name": "DescriptionStyleModel",
            "_view_count": null,
            "_view_module": "@jupyter-widgets/base",
            "_view_module_version": "1.2.0",
            "_view_name": "StyleView",
            "description_width": ""
          }
        },
        "2430d9e35079455784420589abcc5b33": {
          "model_module": "@jupyter-widgets/controls",
          "model_name": "HBoxModel",
          "model_module_version": "1.5.0",
          "state": {
            "_dom_classes": [],
            "_model_module": "@jupyter-widgets/controls",
            "_model_module_version": "1.5.0",
            "_model_name": "HBoxModel",
            "_view_count": null,
            "_view_module": "@jupyter-widgets/controls",
            "_view_module_version": "1.5.0",
            "_view_name": "HBoxView",
            "box_style": "",
            "children": [
              "IPY_MODEL_832e42b241e1419bac29eb7203c56660",
              "IPY_MODEL_a782449413f1496c9dd7e7868cf430c4",
              "IPY_MODEL_3abb44d96c9c447481a29eba34d9cfd7"
            ],
            "layout": "IPY_MODEL_c6f0e9dd3ea34d4e86670ed10735799d"
          }
        },
        "832e42b241e1419bac29eb7203c56660": {
          "model_module": "@jupyter-widgets/controls",
          "model_name": "HTMLModel",
          "model_module_version": "1.5.0",
          "state": {
            "_dom_classes": [],
            "_model_module": "@jupyter-widgets/controls",
            "_model_module_version": "1.5.0",
            "_model_name": "HTMLModel",
            "_view_count": null,
            "_view_module": "@jupyter-widgets/controls",
            "_view_module_version": "1.5.0",
            "_view_name": "HTMLView",
            "description": "",
            "description_tooltip": null,
            "layout": "IPY_MODEL_b7593ce1ddc5460f9e634ce0ad51dd66",
            "placeholder": "​",
            "style": "IPY_MODEL_b8fabc01e5154bf3a01935fdb3b5741d",
            "value": "Downloading: 100%"
          }
        },
        "a782449413f1496c9dd7e7868cf430c4": {
          "model_module": "@jupyter-widgets/controls",
          "model_name": "FloatProgressModel",
          "model_module_version": "1.5.0",
          "state": {
            "_dom_classes": [],
            "_model_module": "@jupyter-widgets/controls",
            "_model_module_version": "1.5.0",
            "_model_name": "FloatProgressModel",
            "_view_count": null,
            "_view_module": "@jupyter-widgets/controls",
            "_view_module_version": "1.5.0",
            "_view_name": "ProgressView",
            "bar_style": "success",
            "description": "",
            "description_tooltip": null,
            "layout": "IPY_MODEL_7b3d92c1309a4cb2893deaf6162c2952",
            "max": 85,
            "min": 0,
            "orientation": "horizontal",
            "style": "IPY_MODEL_84447a97f7284b68b9ac3b1108f5ad50",
            "value": 85
          }
        },
        "3abb44d96c9c447481a29eba34d9cfd7": {
          "model_module": "@jupyter-widgets/controls",
          "model_name": "HTMLModel",
          "model_module_version": "1.5.0",
          "state": {
            "_dom_classes": [],
            "_model_module": "@jupyter-widgets/controls",
            "_model_module_version": "1.5.0",
            "_model_name": "HTMLModel",
            "_view_count": null,
            "_view_module": "@jupyter-widgets/controls",
            "_view_module_version": "1.5.0",
            "_view_name": "HTMLView",
            "description": "",
            "description_tooltip": null,
            "layout": "IPY_MODEL_6c9ee9de9fbd4223ad3314ed0ba87788",
            "placeholder": "​",
            "style": "IPY_MODEL_a3e31e427e9646b9aeb3138c29b7490c",
            "value": " 85.0/85.0 [00:00&lt;00:00, 1.76kB/s]"
          }
        },
        "c6f0e9dd3ea34d4e86670ed10735799d": {
          "model_module": "@jupyter-widgets/base",
          "model_name": "LayoutModel",
          "model_module_version": "1.2.0",
          "state": {
            "_model_module": "@jupyter-widgets/base",
            "_model_module_version": "1.2.0",
            "_model_name": "LayoutModel",
            "_view_count": null,
            "_view_module": "@jupyter-widgets/base",
            "_view_module_version": "1.2.0",
            "_view_name": "LayoutView",
            "align_content": null,
            "align_items": null,
            "align_self": null,
            "border": null,
            "bottom": null,
            "display": null,
            "flex": null,
            "flex_flow": null,
            "grid_area": null,
            "grid_auto_columns": null,
            "grid_auto_flow": null,
            "grid_auto_rows": null,
            "grid_column": null,
            "grid_gap": null,
            "grid_row": null,
            "grid_template_areas": null,
            "grid_template_columns": null,
            "grid_template_rows": null,
            "height": null,
            "justify_content": null,
            "justify_items": null,
            "left": null,
            "margin": null,
            "max_height": null,
            "max_width": null,
            "min_height": null,
            "min_width": null,
            "object_fit": null,
            "object_position": null,
            "order": null,
            "overflow": null,
            "overflow_x": null,
            "overflow_y": null,
            "padding": null,
            "right": null,
            "top": null,
            "visibility": null,
            "width": null
          }
        },
        "b7593ce1ddc5460f9e634ce0ad51dd66": {
          "model_module": "@jupyter-widgets/base",
          "model_name": "LayoutModel",
          "model_module_version": "1.2.0",
          "state": {
            "_model_module": "@jupyter-widgets/base",
            "_model_module_version": "1.2.0",
            "_model_name": "LayoutModel",
            "_view_count": null,
            "_view_module": "@jupyter-widgets/base",
            "_view_module_version": "1.2.0",
            "_view_name": "LayoutView",
            "align_content": null,
            "align_items": null,
            "align_self": null,
            "border": null,
            "bottom": null,
            "display": null,
            "flex": null,
            "flex_flow": null,
            "grid_area": null,
            "grid_auto_columns": null,
            "grid_auto_flow": null,
            "grid_auto_rows": null,
            "grid_column": null,
            "grid_gap": null,
            "grid_row": null,
            "grid_template_areas": null,
            "grid_template_columns": null,
            "grid_template_rows": null,
            "height": null,
            "justify_content": null,
            "justify_items": null,
            "left": null,
            "margin": null,
            "max_height": null,
            "max_width": null,
            "min_height": null,
            "min_width": null,
            "object_fit": null,
            "object_position": null,
            "order": null,
            "overflow": null,
            "overflow_x": null,
            "overflow_y": null,
            "padding": null,
            "right": null,
            "top": null,
            "visibility": null,
            "width": null
          }
        },
        "b8fabc01e5154bf3a01935fdb3b5741d": {
          "model_module": "@jupyter-widgets/controls",
          "model_name": "DescriptionStyleModel",
          "model_module_version": "1.5.0",
          "state": {
            "_model_module": "@jupyter-widgets/controls",
            "_model_module_version": "1.5.0",
            "_model_name": "DescriptionStyleModel",
            "_view_count": null,
            "_view_module": "@jupyter-widgets/base",
            "_view_module_version": "1.2.0",
            "_view_name": "StyleView",
            "description_width": ""
          }
        },
        "7b3d92c1309a4cb2893deaf6162c2952": {
          "model_module": "@jupyter-widgets/base",
          "model_name": "LayoutModel",
          "model_module_version": "1.2.0",
          "state": {
            "_model_module": "@jupyter-widgets/base",
            "_model_module_version": "1.2.0",
            "_model_name": "LayoutModel",
            "_view_count": null,
            "_view_module": "@jupyter-widgets/base",
            "_view_module_version": "1.2.0",
            "_view_name": "LayoutView",
            "align_content": null,
            "align_items": null,
            "align_self": null,
            "border": null,
            "bottom": null,
            "display": null,
            "flex": null,
            "flex_flow": null,
            "grid_area": null,
            "grid_auto_columns": null,
            "grid_auto_flow": null,
            "grid_auto_rows": null,
            "grid_column": null,
            "grid_gap": null,
            "grid_row": null,
            "grid_template_areas": null,
            "grid_template_columns": null,
            "grid_template_rows": null,
            "height": null,
            "justify_content": null,
            "justify_items": null,
            "left": null,
            "margin": null,
            "max_height": null,
            "max_width": null,
            "min_height": null,
            "min_width": null,
            "object_fit": null,
            "object_position": null,
            "order": null,
            "overflow": null,
            "overflow_x": null,
            "overflow_y": null,
            "padding": null,
            "right": null,
            "top": null,
            "visibility": null,
            "width": null
          }
        },
        "84447a97f7284b68b9ac3b1108f5ad50": {
          "model_module": "@jupyter-widgets/controls",
          "model_name": "ProgressStyleModel",
          "model_module_version": "1.5.0",
          "state": {
            "_model_module": "@jupyter-widgets/controls",
            "_model_module_version": "1.5.0",
            "_model_name": "ProgressStyleModel",
            "_view_count": null,
            "_view_module": "@jupyter-widgets/base",
            "_view_module_version": "1.2.0",
            "_view_name": "StyleView",
            "bar_color": null,
            "description_width": ""
          }
        },
        "6c9ee9de9fbd4223ad3314ed0ba87788": {
          "model_module": "@jupyter-widgets/base",
          "model_name": "LayoutModel",
          "model_module_version": "1.2.0",
          "state": {
            "_model_module": "@jupyter-widgets/base",
            "_model_module_version": "1.2.0",
            "_model_name": "LayoutModel",
            "_view_count": null,
            "_view_module": "@jupyter-widgets/base",
            "_view_module_version": "1.2.0",
            "_view_name": "LayoutView",
            "align_content": null,
            "align_items": null,
            "align_self": null,
            "border": null,
            "bottom": null,
            "display": null,
            "flex": null,
            "flex_flow": null,
            "grid_area": null,
            "grid_auto_columns": null,
            "grid_auto_flow": null,
            "grid_auto_rows": null,
            "grid_column": null,
            "grid_gap": null,
            "grid_row": null,
            "grid_template_areas": null,
            "grid_template_columns": null,
            "grid_template_rows": null,
            "height": null,
            "justify_content": null,
            "justify_items": null,
            "left": null,
            "margin": null,
            "max_height": null,
            "max_width": null,
            "min_height": null,
            "min_width": null,
            "object_fit": null,
            "object_position": null,
            "order": null,
            "overflow": null,
            "overflow_x": null,
            "overflow_y": null,
            "padding": null,
            "right": null,
            "top": null,
            "visibility": null,
            "width": null
          }
        },
        "a3e31e427e9646b9aeb3138c29b7490c": {
          "model_module": "@jupyter-widgets/controls",
          "model_name": "DescriptionStyleModel",
          "model_module_version": "1.5.0",
          "state": {
            "_model_module": "@jupyter-widgets/controls",
            "_model_module_version": "1.5.0",
            "_model_name": "DescriptionStyleModel",
            "_view_count": null,
            "_view_module": "@jupyter-widgets/base",
            "_view_module_version": "1.2.0",
            "_view_name": "StyleView",
            "description_width": ""
          }
        },
        "e63bc239ad604a8e9176b3fb9d29c6c0": {
          "model_module": "@jupyter-widgets/controls",
          "model_name": "HBoxModel",
          "model_module_version": "1.5.0",
          "state": {
            "_dom_classes": [],
            "_model_module": "@jupyter-widgets/controls",
            "_model_module_version": "1.5.0",
            "_model_name": "HBoxModel",
            "_view_count": null,
            "_view_module": "@jupyter-widgets/controls",
            "_view_module_version": "1.5.0",
            "_view_name": "HBoxView",
            "box_style": "",
            "children": [
              "IPY_MODEL_b9454bbed8654ec39f097dc777ea6abc",
              "IPY_MODEL_8cbb5ad8343c4e229d84078553699f37",
              "IPY_MODEL_08f61cc30f00438b9d2e6c7781bc2e04"
            ],
            "layout": "IPY_MODEL_3a6b7c38e7e54371afb5a5e6555234e3"
          }
        },
        "b9454bbed8654ec39f097dc777ea6abc": {
          "model_module": "@jupyter-widgets/controls",
          "model_name": "HTMLModel",
          "model_module_version": "1.5.0",
          "state": {
            "_dom_classes": [],
            "_model_module": "@jupyter-widgets/controls",
            "_model_module_version": "1.5.0",
            "_model_name": "HTMLModel",
            "_view_count": null,
            "_view_module": "@jupyter-widgets/controls",
            "_view_module_version": "1.5.0",
            "_view_name": "HTMLView",
            "description": "",
            "description_tooltip": null,
            "layout": "IPY_MODEL_9f6e73f9b9214001be4379a13cf30a81",
            "placeholder": "​",
            "style": "IPY_MODEL_231ecd0570bf441b9eb254c02523b2bc",
            "value": "Downloading: 100%"
          }
        },
        "8cbb5ad8343c4e229d84078553699f37": {
          "model_module": "@jupyter-widgets/controls",
          "model_name": "FloatProgressModel",
          "model_module_version": "1.5.0",
          "state": {
            "_dom_classes": [],
            "_model_module": "@jupyter-widgets/controls",
            "_model_module_version": "1.5.0",
            "_model_name": "FloatProgressModel",
            "_view_count": null,
            "_view_module": "@jupyter-widgets/controls",
            "_view_module_version": "1.5.0",
            "_view_name": "ProgressView",
            "bar_style": "success",
            "description": "",
            "description_tooltip": null,
            "layout": "IPY_MODEL_ba139f1ba8454dbbac0c7081beac82f5",
            "max": 1596,
            "min": 0,
            "orientation": "horizontal",
            "style": "IPY_MODEL_ca4f468c416148dea8c19c182251acbb",
            "value": 1596
          }
        },
        "08f61cc30f00438b9d2e6c7781bc2e04": {
          "model_module": "@jupyter-widgets/controls",
          "model_name": "HTMLModel",
          "model_module_version": "1.5.0",
          "state": {
            "_dom_classes": [],
            "_model_module": "@jupyter-widgets/controls",
            "_model_module_version": "1.5.0",
            "_model_name": "HTMLModel",
            "_view_count": null,
            "_view_module": "@jupyter-widgets/controls",
            "_view_module_version": "1.5.0",
            "_view_name": "HTMLView",
            "description": "",
            "description_tooltip": null,
            "layout": "IPY_MODEL_fd677a2955b749ff8647d6143e3f99f0",
            "placeholder": "​",
            "style": "IPY_MODEL_fbf19d2db0284a90aeba6ed93ca762a9",
            "value": " 1.56k/1.56k [00:00&lt;00:00, 43.2kB/s]"
          }
        },
        "3a6b7c38e7e54371afb5a5e6555234e3": {
          "model_module": "@jupyter-widgets/base",
          "model_name": "LayoutModel",
          "model_module_version": "1.2.0",
          "state": {
            "_model_module": "@jupyter-widgets/base",
            "_model_module_version": "1.2.0",
            "_model_name": "LayoutModel",
            "_view_count": null,
            "_view_module": "@jupyter-widgets/base",
            "_view_module_version": "1.2.0",
            "_view_name": "LayoutView",
            "align_content": null,
            "align_items": null,
            "align_self": null,
            "border": null,
            "bottom": null,
            "display": null,
            "flex": null,
            "flex_flow": null,
            "grid_area": null,
            "grid_auto_columns": null,
            "grid_auto_flow": null,
            "grid_auto_rows": null,
            "grid_column": null,
            "grid_gap": null,
            "grid_row": null,
            "grid_template_areas": null,
            "grid_template_columns": null,
            "grid_template_rows": null,
            "height": null,
            "justify_content": null,
            "justify_items": null,
            "left": null,
            "margin": null,
            "max_height": null,
            "max_width": null,
            "min_height": null,
            "min_width": null,
            "object_fit": null,
            "object_position": null,
            "order": null,
            "overflow": null,
            "overflow_x": null,
            "overflow_y": null,
            "padding": null,
            "right": null,
            "top": null,
            "visibility": null,
            "width": null
          }
        },
        "9f6e73f9b9214001be4379a13cf30a81": {
          "model_module": "@jupyter-widgets/base",
          "model_name": "LayoutModel",
          "model_module_version": "1.2.0",
          "state": {
            "_model_module": "@jupyter-widgets/base",
            "_model_module_version": "1.2.0",
            "_model_name": "LayoutModel",
            "_view_count": null,
            "_view_module": "@jupyter-widgets/base",
            "_view_module_version": "1.2.0",
            "_view_name": "LayoutView",
            "align_content": null,
            "align_items": null,
            "align_self": null,
            "border": null,
            "bottom": null,
            "display": null,
            "flex": null,
            "flex_flow": null,
            "grid_area": null,
            "grid_auto_columns": null,
            "grid_auto_flow": null,
            "grid_auto_rows": null,
            "grid_column": null,
            "grid_gap": null,
            "grid_row": null,
            "grid_template_areas": null,
            "grid_template_columns": null,
            "grid_template_rows": null,
            "height": null,
            "justify_content": null,
            "justify_items": null,
            "left": null,
            "margin": null,
            "max_height": null,
            "max_width": null,
            "min_height": null,
            "min_width": null,
            "object_fit": null,
            "object_position": null,
            "order": null,
            "overflow": null,
            "overflow_x": null,
            "overflow_y": null,
            "padding": null,
            "right": null,
            "top": null,
            "visibility": null,
            "width": null
          }
        },
        "231ecd0570bf441b9eb254c02523b2bc": {
          "model_module": "@jupyter-widgets/controls",
          "model_name": "DescriptionStyleModel",
          "model_module_version": "1.5.0",
          "state": {
            "_model_module": "@jupyter-widgets/controls",
            "_model_module_version": "1.5.0",
            "_model_name": "DescriptionStyleModel",
            "_view_count": null,
            "_view_module": "@jupyter-widgets/base",
            "_view_module_version": "1.2.0",
            "_view_name": "StyleView",
            "description_width": ""
          }
        },
        "ba139f1ba8454dbbac0c7081beac82f5": {
          "model_module": "@jupyter-widgets/base",
          "model_name": "LayoutModel",
          "model_module_version": "1.2.0",
          "state": {
            "_model_module": "@jupyter-widgets/base",
            "_model_module_version": "1.2.0",
            "_model_name": "LayoutModel",
            "_view_count": null,
            "_view_module": "@jupyter-widgets/base",
            "_view_module_version": "1.2.0",
            "_view_name": "LayoutView",
            "align_content": null,
            "align_items": null,
            "align_self": null,
            "border": null,
            "bottom": null,
            "display": null,
            "flex": null,
            "flex_flow": null,
            "grid_area": null,
            "grid_auto_columns": null,
            "grid_auto_flow": null,
            "grid_auto_rows": null,
            "grid_column": null,
            "grid_gap": null,
            "grid_row": null,
            "grid_template_areas": null,
            "grid_template_columns": null,
            "grid_template_rows": null,
            "height": null,
            "justify_content": null,
            "justify_items": null,
            "left": null,
            "margin": null,
            "max_height": null,
            "max_width": null,
            "min_height": null,
            "min_width": null,
            "object_fit": null,
            "object_position": null,
            "order": null,
            "overflow": null,
            "overflow_x": null,
            "overflow_y": null,
            "padding": null,
            "right": null,
            "top": null,
            "visibility": null,
            "width": null
          }
        },
        "ca4f468c416148dea8c19c182251acbb": {
          "model_module": "@jupyter-widgets/controls",
          "model_name": "ProgressStyleModel",
          "model_module_version": "1.5.0",
          "state": {
            "_model_module": "@jupyter-widgets/controls",
            "_model_module_version": "1.5.0",
            "_model_name": "ProgressStyleModel",
            "_view_count": null,
            "_view_module": "@jupyter-widgets/base",
            "_view_module_version": "1.2.0",
            "_view_name": "StyleView",
            "bar_color": null,
            "description_width": ""
          }
        },
        "fd677a2955b749ff8647d6143e3f99f0": {
          "model_module": "@jupyter-widgets/base",
          "model_name": "LayoutModel",
          "model_module_version": "1.2.0",
          "state": {
            "_model_module": "@jupyter-widgets/base",
            "_model_module_version": "1.2.0",
            "_model_name": "LayoutModel",
            "_view_count": null,
            "_view_module": "@jupyter-widgets/base",
            "_view_module_version": "1.2.0",
            "_view_name": "LayoutView",
            "align_content": null,
            "align_items": null,
            "align_self": null,
            "border": null,
            "bottom": null,
            "display": null,
            "flex": null,
            "flex_flow": null,
            "grid_area": null,
            "grid_auto_columns": null,
            "grid_auto_flow": null,
            "grid_auto_rows": null,
            "grid_column": null,
            "grid_gap": null,
            "grid_row": null,
            "grid_template_areas": null,
            "grid_template_columns": null,
            "grid_template_rows": null,
            "height": null,
            "justify_content": null,
            "justify_items": null,
            "left": null,
            "margin": null,
            "max_height": null,
            "max_width": null,
            "min_height": null,
            "min_width": null,
            "object_fit": null,
            "object_position": null,
            "order": null,
            "overflow": null,
            "overflow_x": null,
            "overflow_y": null,
            "padding": null,
            "right": null,
            "top": null,
            "visibility": null,
            "width": null
          }
        },
        "fbf19d2db0284a90aeba6ed93ca762a9": {
          "model_module": "@jupyter-widgets/controls",
          "model_name": "DescriptionStyleModel",
          "model_module_version": "1.5.0",
          "state": {
            "_model_module": "@jupyter-widgets/controls",
            "_model_module_version": "1.5.0",
            "_model_name": "DescriptionStyleModel",
            "_view_count": null,
            "_view_module": "@jupyter-widgets/base",
            "_view_module_version": "1.2.0",
            "_view_name": "StyleView",
            "description_width": ""
          }
        },
        "fddeb37954e34eed97ed3bebf91ae623": {
          "model_module": "@jupyter-widgets/controls",
          "model_name": "HBoxModel",
          "model_module_version": "1.5.0",
          "state": {
            "_dom_classes": [],
            "_model_module": "@jupyter-widgets/controls",
            "_model_module_version": "1.5.0",
            "_model_name": "HBoxModel",
            "_view_count": null,
            "_view_module": "@jupyter-widgets/controls",
            "_view_module_version": "1.5.0",
            "_view_name": "HBoxView",
            "box_style": "",
            "children": [
              "IPY_MODEL_ce2d6a3c05d54ed99d5d2d61bec142fe",
              "IPY_MODEL_cc8b06f16c88457ba710f3b34464e51b",
              "IPY_MODEL_d16365c63a9f4479b5c7f629678eb654"
            ],
            "layout": "IPY_MODEL_b959eba5be944956b36173740293aa0d"
          }
        },
        "ce2d6a3c05d54ed99d5d2d61bec142fe": {
          "model_module": "@jupyter-widgets/controls",
          "model_name": "HTMLModel",
          "model_module_version": "1.5.0",
          "state": {
            "_dom_classes": [],
            "_model_module": "@jupyter-widgets/controls",
            "_model_module_version": "1.5.0",
            "_model_name": "HTMLModel",
            "_view_count": null,
            "_view_module": "@jupyter-widgets/controls",
            "_view_module_version": "1.5.0",
            "_view_name": "HTMLView",
            "description": "",
            "description_tooltip": null,
            "layout": "IPY_MODEL_f254e6118f8243f7bdc4723de1761569",
            "placeholder": "​",
            "style": "IPY_MODEL_1d7944f738cc4713aa3d312ab36c6efb",
            "value": "Downloading: 100%"
          }
        },
        "cc8b06f16c88457ba710f3b34464e51b": {
          "model_module": "@jupyter-widgets/controls",
          "model_name": "FloatProgressModel",
          "model_module_version": "1.5.0",
          "state": {
            "_dom_classes": [],
            "_model_module": "@jupyter-widgets/controls",
            "_model_module_version": "1.5.0",
            "_model_name": "FloatProgressModel",
            "_view_count": null,
            "_view_module": "@jupyter-widgets/controls",
            "_view_module_version": "1.5.0",
            "_view_name": "ProgressView",
            "bar_style": "success",
            "description": "",
            "description_tooltip": null,
            "layout": "IPY_MODEL_fb1a3cc555454ae4838cec700fd7d5fd",
            "max": 377667514,
            "min": 0,
            "orientation": "horizontal",
            "style": "IPY_MODEL_c79a865108dc4ee28c8ab181051d09b5",
            "value": 377667514
          }
        },
        "d16365c63a9f4479b5c7f629678eb654": {
          "model_module": "@jupyter-widgets/controls",
          "model_name": "HTMLModel",
          "model_module_version": "1.5.0",
          "state": {
            "_dom_classes": [],
            "_model_module": "@jupyter-widgets/controls",
            "_model_module_version": "1.5.0",
            "_model_name": "HTMLModel",
            "_view_count": null,
            "_view_module": "@jupyter-widgets/controls",
            "_view_module_version": "1.5.0",
            "_view_name": "HTMLView",
            "description": "",
            "description_tooltip": null,
            "layout": "IPY_MODEL_c338529ffe5f4fbdb624dac791e8e5d3",
            "placeholder": "​",
            "style": "IPY_MODEL_c86e2ba367b34a87a5447113cf4af5cb",
            "value": " 360M/360M [00:09&lt;00:00, 46.2MB/s]"
          }
        },
        "b959eba5be944956b36173740293aa0d": {
          "model_module": "@jupyter-widgets/base",
          "model_name": "LayoutModel",
          "model_module_version": "1.2.0",
          "state": {
            "_model_module": "@jupyter-widgets/base",
            "_model_module_version": "1.2.0",
            "_model_name": "LayoutModel",
            "_view_count": null,
            "_view_module": "@jupyter-widgets/base",
            "_view_module_version": "1.2.0",
            "_view_name": "LayoutView",
            "align_content": null,
            "align_items": null,
            "align_self": null,
            "border": null,
            "bottom": null,
            "display": null,
            "flex": null,
            "flex_flow": null,
            "grid_area": null,
            "grid_auto_columns": null,
            "grid_auto_flow": null,
            "grid_auto_rows": null,
            "grid_column": null,
            "grid_gap": null,
            "grid_row": null,
            "grid_template_areas": null,
            "grid_template_columns": null,
            "grid_template_rows": null,
            "height": null,
            "justify_content": null,
            "justify_items": null,
            "left": null,
            "margin": null,
            "max_height": null,
            "max_width": null,
            "min_height": null,
            "min_width": null,
            "object_fit": null,
            "object_position": null,
            "order": null,
            "overflow": null,
            "overflow_x": null,
            "overflow_y": null,
            "padding": null,
            "right": null,
            "top": null,
            "visibility": null,
            "width": null
          }
        },
        "f254e6118f8243f7bdc4723de1761569": {
          "model_module": "@jupyter-widgets/base",
          "model_name": "LayoutModel",
          "model_module_version": "1.2.0",
          "state": {
            "_model_module": "@jupyter-widgets/base",
            "_model_module_version": "1.2.0",
            "_model_name": "LayoutModel",
            "_view_count": null,
            "_view_module": "@jupyter-widgets/base",
            "_view_module_version": "1.2.0",
            "_view_name": "LayoutView",
            "align_content": null,
            "align_items": null,
            "align_self": null,
            "border": null,
            "bottom": null,
            "display": null,
            "flex": null,
            "flex_flow": null,
            "grid_area": null,
            "grid_auto_columns": null,
            "grid_auto_flow": null,
            "grid_auto_rows": null,
            "grid_column": null,
            "grid_gap": null,
            "grid_row": null,
            "grid_template_areas": null,
            "grid_template_columns": null,
            "grid_template_rows": null,
            "height": null,
            "justify_content": null,
            "justify_items": null,
            "left": null,
            "margin": null,
            "max_height": null,
            "max_width": null,
            "min_height": null,
            "min_width": null,
            "object_fit": null,
            "object_position": null,
            "order": null,
            "overflow": null,
            "overflow_x": null,
            "overflow_y": null,
            "padding": null,
            "right": null,
            "top": null,
            "visibility": null,
            "width": null
          }
        },
        "1d7944f738cc4713aa3d312ab36c6efb": {
          "model_module": "@jupyter-widgets/controls",
          "model_name": "DescriptionStyleModel",
          "model_module_version": "1.5.0",
          "state": {
            "_model_module": "@jupyter-widgets/controls",
            "_model_module_version": "1.5.0",
            "_model_name": "DescriptionStyleModel",
            "_view_count": null,
            "_view_module": "@jupyter-widgets/base",
            "_view_module_version": "1.2.0",
            "_view_name": "StyleView",
            "description_width": ""
          }
        },
        "fb1a3cc555454ae4838cec700fd7d5fd": {
          "model_module": "@jupyter-widgets/base",
          "model_name": "LayoutModel",
          "model_module_version": "1.2.0",
          "state": {
            "_model_module": "@jupyter-widgets/base",
            "_model_module_version": "1.2.0",
            "_model_name": "LayoutModel",
            "_view_count": null,
            "_view_module": "@jupyter-widgets/base",
            "_view_module_version": "1.2.0",
            "_view_name": "LayoutView",
            "align_content": null,
            "align_items": null,
            "align_self": null,
            "border": null,
            "bottom": null,
            "display": null,
            "flex": null,
            "flex_flow": null,
            "grid_area": null,
            "grid_auto_columns": null,
            "grid_auto_flow": null,
            "grid_auto_rows": null,
            "grid_column": null,
            "grid_gap": null,
            "grid_row": null,
            "grid_template_areas": null,
            "grid_template_columns": null,
            "grid_template_rows": null,
            "height": null,
            "justify_content": null,
            "justify_items": null,
            "left": null,
            "margin": null,
            "max_height": null,
            "max_width": null,
            "min_height": null,
            "min_width": null,
            "object_fit": null,
            "object_position": null,
            "order": null,
            "overflow": null,
            "overflow_x": null,
            "overflow_y": null,
            "padding": null,
            "right": null,
            "top": null,
            "visibility": null,
            "width": null
          }
        },
        "c79a865108dc4ee28c8ab181051d09b5": {
          "model_module": "@jupyter-widgets/controls",
          "model_name": "ProgressStyleModel",
          "model_module_version": "1.5.0",
          "state": {
            "_model_module": "@jupyter-widgets/controls",
            "_model_module_version": "1.5.0",
            "_model_name": "ProgressStyleModel",
            "_view_count": null,
            "_view_module": "@jupyter-widgets/base",
            "_view_module_version": "1.2.0",
            "_view_name": "StyleView",
            "bar_color": null,
            "description_width": ""
          }
        },
        "c338529ffe5f4fbdb624dac791e8e5d3": {
          "model_module": "@jupyter-widgets/base",
          "model_name": "LayoutModel",
          "model_module_version": "1.2.0",
          "state": {
            "_model_module": "@jupyter-widgets/base",
            "_model_module_version": "1.2.0",
            "_model_name": "LayoutModel",
            "_view_count": null,
            "_view_module": "@jupyter-widgets/base",
            "_view_module_version": "1.2.0",
            "_view_name": "LayoutView",
            "align_content": null,
            "align_items": null,
            "align_self": null,
            "border": null,
            "bottom": null,
            "display": null,
            "flex": null,
            "flex_flow": null,
            "grid_area": null,
            "grid_auto_columns": null,
            "grid_auto_flow": null,
            "grid_auto_rows": null,
            "grid_column": null,
            "grid_gap": null,
            "grid_row": null,
            "grid_template_areas": null,
            "grid_template_columns": null,
            "grid_template_rows": null,
            "height": null,
            "justify_content": null,
            "justify_items": null,
            "left": null,
            "margin": null,
            "max_height": null,
            "max_width": null,
            "min_height": null,
            "min_width": null,
            "object_fit": null,
            "object_position": null,
            "order": null,
            "overflow": null,
            "overflow_x": null,
            "overflow_y": null,
            "padding": null,
            "right": null,
            "top": null,
            "visibility": null,
            "width": null
          }
        },
        "c86e2ba367b34a87a5447113cf4af5cb": {
          "model_module": "@jupyter-widgets/controls",
          "model_name": "DescriptionStyleModel",
          "model_module_version": "1.5.0",
          "state": {
            "_model_module": "@jupyter-widgets/controls",
            "_model_module_version": "1.5.0",
            "_model_name": "DescriptionStyleModel",
            "_view_count": null,
            "_view_module": "@jupyter-widgets/base",
            "_view_module_version": "1.2.0",
            "_view_name": "StyleView",
            "description_width": ""
          }
        }
      }
    }
  },
  "nbformat": 4,
  "nbformat_minor": 0
}